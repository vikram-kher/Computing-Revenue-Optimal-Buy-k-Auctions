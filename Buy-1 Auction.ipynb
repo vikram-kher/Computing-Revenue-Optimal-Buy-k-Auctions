{
 "cells": [
  {
   "cell_type": "markdown",
   "id": "62c4c56d",
   "metadata": {},
   "source": [
    "## Computing the Optimal Buy-1 Incentive-Compatible Auction"
   ]
  },
  {
   "cell_type": "markdown",
   "id": "5bce8ef6",
   "metadata": {},
   "source": [
    "### Imports"
   ]
  },
  {
   "cell_type": "code",
   "execution_count": 1,
   "id": "6703bd6f",
   "metadata": {},
   "outputs": [],
   "source": [
    "import gurobipy as gp\n",
    "from gurobipy import GRB\n",
    "import itertools\n",
    "import numpy as np"
   ]
  },
  {
   "cell_type": "markdown",
   "id": "265678bf",
   "metadata": {},
   "source": [
    "### Set Up Parameters"
   ]
  },
  {
   "cell_type": "code",
   "execution_count": 2,
   "id": "c87c47df",
   "metadata": {},
   "outputs": [],
   "source": [
    "# Number of items\n",
    "n = 2\n",
    "\n",
    "# Distribution\n",
    "prob = [1/6, 1/6, 2/3]\n",
    "values = [[3, 4], [4, 3], [5, 7]]\n",
    "\n",
    "# Number of lottery tickets\n",
    "m = len(values)"
   ]
  },
  {
   "cell_type": "markdown",
   "id": "a512d178",
   "metadata": {},
   "source": [
    "### Initialize Model"
   ]
  },
  {
   "cell_type": "code",
   "execution_count": 3,
   "id": "f85299a5",
   "metadata": {},
   "outputs": [
    {
     "name": "stdout",
     "output_type": "stream",
     "text": [
      "Set parameter Username\n",
      "Academic license - for non-commercial use only - expires 2023-06-23\n"
     ]
    }
   ],
   "source": [
    "model = gp.Model('Auction')"
   ]
  },
  {
   "cell_type": "markdown",
   "id": "6c0f9c0d",
   "metadata": {},
   "source": [
    "### Add Variables"
   ]
  },
  {
   "cell_type": "code",
   "execution_count": 4,
   "id": "9bb99715",
   "metadata": {},
   "outputs": [
    {
     "data": {
      "text/plain": [
       "{0: <gurobi.Var ticket_price[0]>,\n",
       " 1: <gurobi.Var ticket_price[1]>,\n",
       " 2: <gurobi.Var ticket_price[2]>}"
      ]
     },
     "execution_count": 4,
     "metadata": {},
     "output_type": "execute_result"
    }
   ],
   "source": [
    "# Add ticket price variables\n",
    "ticket_price = model.addVars(m, name=\"ticket_price\", lb=0, vtype=GRB.CONTINUOUS)\n",
    "model.update()\n",
    "ticket_price"
   ]
  },
  {
   "cell_type": "code",
   "execution_count": 5,
   "id": "ee7bb91e",
   "metadata": {
    "scrolled": true
   },
   "outputs": [
    {
     "data": {
      "text/plain": [
       "{(0, 0): <gurobi.Var ticket_prob[0,0]>,\n",
       " (0, 1): <gurobi.Var ticket_prob[0,1]>,\n",
       " (1, 0): <gurobi.Var ticket_prob[1,0]>,\n",
       " (1, 1): <gurobi.Var ticket_prob[1,1]>,\n",
       " (2, 0): <gurobi.Var ticket_prob[2,0]>,\n",
       " (2, 1): <gurobi.Var ticket_prob[2,1]>}"
      ]
     },
     "execution_count": 5,
     "metadata": {},
     "output_type": "execute_result"
    }
   ],
   "source": [
    "# Add ticket probability variables\n",
    "ticket_prob = model.addVars(m,n, name=\"ticket_prob\", lb=0, ub=1, vtype=GRB.CONTINUOUS)\n",
    "model.update()\n",
    "ticket_prob"
   ]
  },
  {
   "cell_type": "markdown",
   "id": "712cc6ae",
   "metadata": {},
   "source": [
    "### Add Constraints"
   ]
  },
  {
   "cell_type": "code",
   "execution_count": 6,
   "id": "329de428",
   "metadata": {
    "scrolled": true
   },
   "outputs": [
    {
     "data": {
      "text/plain": [
       "{0: <gurobi.Constr *Awaiting Model Update*>,\n",
       " 1: <gurobi.Constr *Awaiting Model Update*>,\n",
       " 2: <gurobi.Constr *Awaiting Model Update*>}"
      ]
     },
     "execution_count": 6,
     "metadata": {},
     "output_type": "execute_result"
    }
   ],
   "source": [
    "# Non-negative utility\n",
    "model.addConstrs((gp.quicksum(ticket_prob[(i,j)]*values[i][j] for j in range(n)) - ticket_price[(i)] >= 0\n",
    "                  for i in range(m)), name='Non-Negative Utility')"
   ]
  },
  {
   "cell_type": "code",
   "execution_count": 7,
   "id": "7cd89527",
   "metadata": {},
   "outputs": [],
   "source": [
    "# Buy-1 Incentive Compatibility\n",
    "for i in range(m):\n",
    "    for t1 in range(m):\n",
    "        if(i != t1):\n",
    "            model.addConstr((gp.quicksum(ticket_prob[(i,j)]*values[i][j] for j in range(n)) - ticket_price[(i)]\n",
    "                                 >= gp.quicksum(ticket_prob[(t1,j)]*values[i][j] for j in range(n)) - ticket_price[(t1)]),name=f\"IC-1-{i}-{t1}\")"
   ]
  },
  {
   "cell_type": "markdown",
   "id": "86d17c70",
   "metadata": {},
   "source": [
    "### Set Objective"
   ]
  },
  {
   "cell_type": "code",
   "execution_count": 8,
   "id": "d2d7156a",
   "metadata": {},
   "outputs": [],
   "source": [
    "# Maximize expected revenue\n",
    "model.setObjective(gp.quicksum(ticket_price[(j)]*prob[j] for j in range(m)), GRB.MAXIMIZE)"
   ]
  },
  {
   "cell_type": "code",
   "execution_count": 9,
   "id": "670f2e4a",
   "metadata": {},
   "outputs": [
    {
     "name": "stdout",
     "output_type": "stream",
     "text": [
      "Set parameter MIPGap to value 0\n",
      "Set parameter FeasibilityTol to value 1e-09\n",
      "Set parameter PoolSearchMode to value 2\n"
     ]
    }
   ],
   "source": [
    "model.Params.MIPGap = 0\n",
    "model.Params.FeasibilityTol = 1e-09\n",
    "model.Params.PoolSearchMode=2"
   ]
  },
  {
   "cell_type": "code",
   "execution_count": 10,
   "id": "2effb644",
   "metadata": {
    "scrolled": false
   },
   "outputs": [
    {
     "name": "stdout",
     "output_type": "stream",
     "text": [
      "Gurobi Optimizer version 9.5.1 build v9.5.1rc2 (mac64[arm])\n",
      "Thread count: 10 physical cores, 10 logical processors, using up to 10 threads\n",
      "Optimize a model with 9 rows, 9 columns and 45 nonzeros\n",
      "Model fingerprint: 0x7f29c2b7\n",
      "Coefficient statistics:\n",
      "  Matrix range     [1e+00, 7e+00]\n",
      "  Objective range  [2e-01, 7e-01]\n",
      "  Bounds range     [1e+00, 1e+00]\n",
      "  RHS range        [0e+00, 0e+00]\n",
      "Presolve time: 0.01s\n",
      "Presolved: 9 rows, 9 columns, 45 nonzeros\n",
      "\n",
      "Iteration    Objective       Primal Inf.    Dual Inf.      Time\n",
      "       0    4.0000000e+30   2.500000e+30   4.000000e+00      0s\n",
      "       6    8.2333333e+00   0.000000e+00   0.000000e+00      0s\n",
      "\n",
      "Solved in 6 iterations and 0.01 seconds (0.00 work units)\n",
      "Optimal objective  8.233333333e+00\n"
     ]
    }
   ],
   "source": [
    "model.optimize()"
   ]
  },
  {
   "cell_type": "markdown",
   "id": "448f0c88",
   "metadata": {},
   "source": [
    "### Print Primal Variables"
   ]
  },
  {
   "cell_type": "code",
   "execution_count": 11,
   "id": "0f900406",
   "metadata": {
    "scrolled": true
   },
   "outputs": [
    {
     "name": "stdout",
     "output_type": "stream",
     "text": [
      "Objective Value:\n",
      "8.233333333333333\n",
      "Values and Prob:\n",
      "[0.16666666666666666, 0.16666666666666666, 0.6666666666666666]\n",
      "[[3, 4], [4, 3], [5, 7]]\n",
      "MENU:\n",
      "ticket_price[0] 1.4000000000000001\n",
      "ticket_price[1] 4.0\n",
      "ticket_price[2] 11.0\n",
      "ticket_prob[0,0] 0.2\n",
      "ticket_prob[0,1] 0.2\n",
      "ticket_prob[1,0] 1.0\n",
      "ticket_prob[1,1] 0.0\n",
      "ticket_prob[2,0] 1.0\n",
      "ticket_prob[2,1] 1.0\n",
      "\n",
      "Menu in Array Format:\n",
      "Price: [1.4000000000000001, 4.0, 11.0]\n",
      "Allocation: [[0.2, 0.2], [1.0, 0.0], [1.0, 1.0]]\n"
     ]
    }
   ],
   "source": [
    "menu_price = []\n",
    "menu_ticket = []\n",
    "obj = model.getObjective()\n",
    "print(\"Objective Value:\")\n",
    "print(obj.getValue())\n",
    "print(\"Values and Prob:\")\n",
    "print(prob)\n",
    "print(values)\n",
    "\n",
    "for i in range(m):\n",
    "    menu_ticket.append([])\n",
    "print(\"MENU:\")\n",
    "for v in model.getVars(): \n",
    "    print(v.varName, v.x)\n",
    "    if(v.varName[:12] == \"ticket_price\"):\n",
    "        menu_price.append(v.x)\n",
    "    elif(v.varName[:11] == \"ticket_prob\"):\n",
    "        menu_ticket[int(v.varName[12:13])].append(v.x)\n",
    "\n",
    "print(\"\\nMenu in Array Format:\")\n",
    "print(f\"Price: {menu_price}\")\n",
    "print(f\"Allocation: {menu_ticket}\")"
   ]
  },
  {
   "cell_type": "markdown",
   "id": "9e6b25ed",
   "metadata": {},
   "source": [
    "### Check if Menu is Buy-2 Incentive Compatible"
   ]
  },
  {
   "cell_type": "code",
   "execution_count": 12,
   "id": "6d37f515",
   "metadata": {},
   "outputs": [],
   "source": [
    "# Given a series of lottery tickets q and the number of items n\n",
    "# Compute the corresponding additive combined ticket\n",
    "def lottery(q,n):\n",
    "    lot = [1]*n\n",
    "    for i in range(n):\n",
    "        for j in range(len(q)):\n",
    "            lot[i] = lot[i] * (1- q[j][i]) \n",
    "        lot[i] = 1 - lot[i]\n",
    "    return lot"
   ]
  },
  {
   "cell_type": "code",
   "execution_count": 13,
   "id": "963f3ad9",
   "metadata": {
    "scrolled": true
   },
   "outputs": [
    {
     "name": "stdout",
     "output_type": "stream",
     "text": [
      "Buyer Preference: [5, 7]\n",
      "Alternative multi-set: [[0.2, 0.2], [0.2, 0.2]]\n",
      "Combined Lottery allocation of multi-set: [0.3599999999999999, 0.3599999999999999]\n",
      "Original Ticket Allocation: [1.0, 1.0]\n",
      "New Utility: 1.5199999999999982\n",
      "Old Utility: 1.0\n",
      "MENU IS NOT BUY-2 COMPATIBLE\n"
     ]
    }
   ],
   "source": [
    "# Iterate over tickets and for each ticket i look at every multi-set of k other tickets\n",
    "# and see if the buyer who likes i would rather purchase the alternative multiset\n",
    "# If so, print out information and warning message\n",
    "k = 2\n",
    "for i in range(m):\n",
    "    x = values[i]\n",
    "    combos = list(itertools.combinations_with_replacement(list(range(len(menu_ticket))), k))\n",
    "    for index in combos:\n",
    "        grouping = []\n",
    "        total_price = 0\n",
    "        for j in range(len(index)):\n",
    "            grouping.append(menu_ticket[index[j]])\n",
    "            total_price = total_price + menu_price[index[j]]\n",
    "        lotReturn = lottery(grouping,n)\n",
    "        newUtil = np.dot(lotReturn, x, out = None) - total_price \n",
    "        oldUtil = np.dot(menu_ticket[i], x, out = None) - menu_price[i]\n",
    "\n",
    "        if(newUtil > oldUtil):\n",
    "            print(f\"Buyer Preference: {x}\")\n",
    "            print(f\"Alternative multi-set: {grouping}\")\n",
    "            print(f\"Combined Lottery allocation of multi-set: {lotReturn}\")\n",
    "            print(f\"Original Ticket Allocation: {menu_ticket[i]}\")\n",
    "            print(f\"New Utility: {newUtil}\")\n",
    "            print(f\"Old Utility: {oldUtil}\")\n",
    "            print(f\"MENU IS NOT BUY-{k} COMPATIBLE\")"
   ]
  },
  {
   "cell_type": "markdown",
   "id": "f8fb2a38",
   "metadata": {},
   "source": [
    "### Print Out Model Details"
   ]
  },
  {
   "cell_type": "code",
   "execution_count": 14,
   "id": "e66b382b",
   "metadata": {
    "scrolled": false
   },
   "outputs": [
    {
     "name": "stdout",
     "output_type": "stream",
     "text": [
      "Maximize\n",
      "<gurobi.LinExpr: 0.16666666666666666 ticket_price[0]\n",
      "+ 0.16666666666666666 ticket_price[1] + 0.6666666666666666 ticket_price[2]>\n",
      "Subject To\n",
      "Non-Negative Utility[0]: <gurobi.LinExpr: -1.0 ticket_price[0] + 3.0 ticket_prob[0,0] +\n",
      " 4.0 ticket_prob[0,1]> >= 0\n",
      "Non-Negative Utility[1]: <gurobi.LinExpr: -1.0 ticket_price[1] + 4.0 ticket_prob[1,0] +\n",
      " 3.0 ticket_prob[1,1]> >= 0\n",
      "Non-Negative Utility[2]: <gurobi.LinExpr: -1.0 ticket_price[2] + 5.0 ticket_prob[2,0] +\n",
      " 7.0 ticket_prob[2,1]> >= 0\n",
      "IC-1-0-1: <gurobi.LinExpr: -1.0 ticket_price[0] + ticket_price[1] + 3.0\n",
      "ticket_prob[0,0] + 4.0 ticket_prob[0,1] + -3.0 ticket_prob[1,0] + -4.0 ticket_prob[1,1]>\n",
      " >= 0\n",
      "IC-1-0-2: <gurobi.LinExpr: -1.0 ticket_price[0] + ticket_price[2] + 3.0\n",
      "ticket_prob[0,0] + 4.0 ticket_prob[0,1] + -3.0 ticket_prob[2,0] + -4.0 ticket_prob[2,1]>\n",
      " >= 0\n",
      "IC-1-1-0: <gurobi.LinExpr: ticket_price[0] + -1.0 ticket_price[1] + -4.0\n",
      "ticket_prob[0,0] + -3.0 ticket_prob[0,1] + 4.0 ticket_prob[1,0] + 3.0 ticket_prob[1,1]>\n",
      " >= 0\n",
      "IC-1-1-2: <gurobi.LinExpr: -1.0 ticket_price[1] + ticket_price[2] + 4.0\n",
      "ticket_prob[1,0] + 3.0 ticket_prob[1,1] + -4.0 ticket_prob[2,0] + -3.0 ticket_prob[2,1]>\n",
      " >= 0\n",
      "IC-1-2-0: <gurobi.LinExpr: ticket_price[0] + -1.0 ticket_price[2] + -5.0\n",
      "ticket_prob[0,0] + -7.0 ticket_prob[0,1] + 5.0 ticket_prob[2,0] + 7.0 ticket_prob[2,1]>\n",
      " >= 0\n",
      "IC-1-2-1: <gurobi.LinExpr: ticket_price[1] + -1.0 ticket_price[2] + -5.0\n",
      "ticket_prob[1,0] + -7.0 ticket_prob[1,1] + 5.0 ticket_prob[2,0] + 7.0 ticket_prob[2,1]>\n",
      " >= 0\n",
      "Bounds\n",
      "  0 <= ticket_prob[0,0] <= 1\n",
      "  0 <= ticket_prob[0,1] <= 1\n",
      "  0 <= ticket_prob[1,0] <= 1\n",
      "  0 <= ticket_prob[1,1] <= 1\n",
      "  0 <= ticket_prob[2,0] <= 1\n",
      "  0 <= ticket_prob[2,1] <= 1\n",
      "None\n"
     ]
    }
   ],
   "source": [
    "print(model.display())"
   ]
  },
  {
   "cell_type": "code",
   "execution_count": 15,
   "id": "cf1d3864",
   "metadata": {
    "scrolled": false
   },
   "outputs": [
    {
     "name": "stdout",
     "output_type": "stream",
     "text": [
      "\n",
      "Solution quality statistics for model Auction :\n",
      "  Maximum violation (unscaled/scaled):\n",
      "    Bound           : 0.00000000e+00 / 0.00000000e+00\n",
      "    Constraint      : 0.00000000e+00 / 0.00000000e+00\n",
      "    Dual            : 0.00000000e+00 / 0.00000000e+00\n"
     ]
    }
   ],
   "source": [
    "model.printQuality()"
   ]
  }
 ],
 "metadata": {
  "kernelspec": {
   "display_name": "Python 3 (ipykernel)",
   "language": "python",
   "name": "python3"
  },
  "language_info": {
   "codemirror_mode": {
    "name": "ipython",
    "version": 3
   },
   "file_extension": ".py",
   "mimetype": "text/x-python",
   "name": "python",
   "nbconvert_exporter": "python",
   "pygments_lexer": "ipython3",
   "version": "3.9.12"
  }
 },
 "nbformat": 4,
 "nbformat_minor": 5
}
