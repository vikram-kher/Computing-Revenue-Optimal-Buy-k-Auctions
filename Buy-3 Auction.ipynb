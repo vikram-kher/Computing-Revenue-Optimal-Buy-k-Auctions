{
 "cells": [
  {
   "cell_type": "markdown",
   "id": "4e16633a",
   "metadata": {},
   "source": [
    "## Computing the Optimal Buy-3 Incentive Compatible Auction"
   ]
  },
  {
   "cell_type": "markdown",
   "id": "93d8b0af",
   "metadata": {},
   "source": [
    "### Imports"
   ]
  },
  {
   "cell_type": "code",
   "execution_count": 1,
   "id": "1c95d86c",
   "metadata": {},
   "outputs": [],
   "source": [
    "import gurobipy as gp\n",
    "from gurobipy import GRB\n",
    "import itertools\n",
    "import numpy as np"
   ]
  },
  {
   "cell_type": "markdown",
   "id": "232d55bb",
   "metadata": {},
   "source": [
    "### Set Up Parameters"
   ]
  },
  {
   "cell_type": "code",
   "execution_count": 2,
   "id": "c87c47df",
   "metadata": {},
   "outputs": [],
   "source": [
    "# Number of items\n",
    "n = 2\n",
    "\n",
    "# Distribution\n",
    "prob = [1/6, 1/6, 2/3]\n",
    "values = [[3, 4], [4, 3], [5, 7]]\n",
    "\n",
    "# Number of lottery tickets\n",
    "m = len(values)"
   ]
  },
  {
   "cell_type": "markdown",
   "id": "f2537cf1",
   "metadata": {},
   "source": [
    "### Initialize Model"
   ]
  },
  {
   "cell_type": "code",
   "execution_count": 3,
   "id": "f85299a5",
   "metadata": {},
   "outputs": [
    {
     "name": "stdout",
     "output_type": "stream",
     "text": [
      "Set parameter Username\n",
      "Academic license - for non-commercial use only - expires 2023-06-23\n",
      "Set parameter NonConvex to value 2\n"
     ]
    }
   ],
   "source": [
    "model = gp.Model('Auction')\n",
    "model.params.NonConvex = 2"
   ]
  },
  {
   "cell_type": "markdown",
   "id": "3d969207",
   "metadata": {},
   "source": [
    "### Add Variables"
   ]
  },
  {
   "cell_type": "code",
   "execution_count": 4,
   "id": "7d6d8332",
   "metadata": {},
   "outputs": [
    {
     "data": {
      "text/plain": [
       "{0: <gurobi.Var ticket_price[0]>,\n",
       " 1: <gurobi.Var ticket_price[1]>,\n",
       " 2: <gurobi.Var ticket_price[2]>}"
      ]
     },
     "execution_count": 4,
     "metadata": {},
     "output_type": "execute_result"
    }
   ],
   "source": [
    "# Add ticket price variables\n",
    "ticket_price = model.addVars(m, name=\"ticket_price\", lb=0, vtype=GRB.CONTINUOUS)\n",
    "model.update()\n",
    "ticket_price"
   ]
  },
  {
   "cell_type": "code",
   "execution_count": 5,
   "id": "ee7bb91e",
   "metadata": {
    "scrolled": true
   },
   "outputs": [
    {
     "data": {
      "text/plain": [
       "{(0, 0): <gurobi.Var ticket_prob[0,0]>,\n",
       " (0, 1): <gurobi.Var ticket_prob[0,1]>,\n",
       " (1, 0): <gurobi.Var ticket_prob[1,0]>,\n",
       " (1, 1): <gurobi.Var ticket_prob[1,1]>,\n",
       " (2, 0): <gurobi.Var ticket_prob[2,0]>,\n",
       " (2, 1): <gurobi.Var ticket_prob[2,1]>}"
      ]
     },
     "execution_count": 5,
     "metadata": {},
     "output_type": "execute_result"
    }
   ],
   "source": [
    "# Add ticket probability variables\n",
    "ticket_prob = model.addVars(m,n, name=\"ticket_prob\", lb=0,ub=1, vtype=GRB.CONTINUOUS)\n",
    "model.update()\n",
    "ticket_prob"
   ]
  },
  {
   "cell_type": "code",
   "execution_count": 6,
   "id": "623aaeea",
   "metadata": {},
   "outputs": [
    {
     "data": {
      "text/plain": [
       "{(0, 0, 0): <gurobi.Var quad_help[0,0,0]>,\n",
       " (0, 0, 1): <gurobi.Var quad_help[0,0,1]>,\n",
       " (0, 0, 2): <gurobi.Var quad_help[0,0,2]>,\n",
       " (0, 1, 0): <gurobi.Var quad_help[0,1,0]>,\n",
       " (0, 1, 1): <gurobi.Var quad_help[0,1,1]>,\n",
       " (0, 1, 2): <gurobi.Var quad_help[0,1,2]>,\n",
       " (0, 2, 0): <gurobi.Var quad_help[0,2,0]>,\n",
       " (0, 2, 1): <gurobi.Var quad_help[0,2,1]>,\n",
       " (0, 2, 2): <gurobi.Var quad_help[0,2,2]>,\n",
       " (1, 0, 0): <gurobi.Var quad_help[1,0,0]>,\n",
       " (1, 0, 1): <gurobi.Var quad_help[1,0,1]>,\n",
       " (1, 0, 2): <gurobi.Var quad_help[1,0,2]>,\n",
       " (1, 1, 0): <gurobi.Var quad_help[1,1,0]>,\n",
       " (1, 1, 1): <gurobi.Var quad_help[1,1,1]>,\n",
       " (1, 1, 2): <gurobi.Var quad_help[1,1,2]>,\n",
       " (1, 2, 0): <gurobi.Var quad_help[1,2,0]>,\n",
       " (1, 2, 1): <gurobi.Var quad_help[1,2,1]>,\n",
       " (1, 2, 2): <gurobi.Var quad_help[1,2,2]>}"
      ]
     },
     "execution_count": 6,
     "metadata": {},
     "output_type": "execute_result"
    }
   ],
   "source": [
    "# Additional variables to allow the encoding of cubic constraints\n",
    "quad_helper = model.addVars(n,m,m, name=\"quad_help\", lb=0, vtype=GRB.CONTINUOUS)\n",
    "model.update()\n",
    "quad_helper"
   ]
  },
  {
   "cell_type": "markdown",
   "id": "65d224ca",
   "metadata": {},
   "source": [
    "### Add Constraints"
   ]
  },
  {
   "cell_type": "code",
   "execution_count": 7,
   "id": "329de428",
   "metadata": {
    "scrolled": true
   },
   "outputs": [],
   "source": [
    "# Non-negative utility\n",
    "model.addConstrs((gp.quicksum(ticket_prob[(i,j)]*values[i][j] for j in range(n)) - ticket_price[(i)] >= 0\n",
    "                  for i in range(m)), name='Non-Negative Utility')\n",
    "model.update()"
   ]
  },
  {
   "cell_type": "code",
   "execution_count": 8,
   "id": "efbde31f",
   "metadata": {},
   "outputs": [],
   "source": [
    "# Extra constraints to help encode cubic constraints\n",
    "for k in range(n):\n",
    "    for i in range(m):\n",
    "        for j in range(m):\n",
    "            model.addQConstr((quad_helper[(k,i,j)] == (1-ticket_prob[(i,k)])*(1-ticket_prob[(j,k)])), name=\"Quad\")"
   ]
  },
  {
   "cell_type": "code",
   "execution_count": 9,
   "id": "d55244ab",
   "metadata": {},
   "outputs": [],
   "source": [
    "# Buy-1 Incentive Compatibility\n",
    "for i in range(m):\n",
    "    for k in range(m):\n",
    "        if(i != k):\n",
    "            model.addConstr((gp.quicksum(ticket_prob[(i,j)]*values[i][j] for j in range(n)) - ticket_price[(i)]\n",
    "                                 >= gp.quicksum(ticket_prob[(k,j)]*values[i][j] for j in range(n)) - ticket_price[(k)]),name=\"IC-1\")"
   ]
  },
  {
   "cell_type": "code",
   "execution_count": 10,
   "id": "9502dac0",
   "metadata": {},
   "outputs": [],
   "source": [
    "# Buy-2 Incentive Compatibility\n",
    "for i in range(m):\n",
    "    for t1 in range(m):\n",
    "        for t2 in range(m):\n",
    "            model.addQConstr((gp.quicksum(ticket_prob[(i,j)]*values[i][j] for j in range(n)) - ticket_price[(i)]\n",
    "                                 >= gp.quicksum((1-((1-ticket_prob[(t2,j)])*(1-ticket_prob[(t1,j)])))*values[i][j] for j in range(n)) \n",
    "                              - ticket_price[(t1)] - ticket_price[(t2)]), name=\"IC-2\")          "
   ]
  },
  {
   "cell_type": "code",
   "execution_count": 11,
   "id": "74e55158",
   "metadata": {},
   "outputs": [],
   "source": [
    "# Buy-3 Incentive Compatibility\n",
    "for i in range(m):\n",
    "    for t1 in range(m):\n",
    "        for t2 in range(m):\n",
    "            for t3 in range(m):\n",
    "                model.addQConstr((gp.quicksum(ticket_prob[(i,j)]*values[i][j] for j in range(n)) - ticket_price[(i)]\n",
    "                                     >= gp.quicksum((1-(quad_helper[(j,t1,t2)]*(1-ticket_prob[(t3,j)])))*values[i][j] for j in range(n)) \n",
    "                                  - ticket_price[(t1)] - ticket_price[(t2)] - ticket_price[(t3)]), name=\"IC-3\")          "
   ]
  },
  {
   "cell_type": "markdown",
   "id": "f5294e14",
   "metadata": {},
   "source": [
    "### Set Objective"
   ]
  },
  {
   "cell_type": "code",
   "execution_count": 12,
   "id": "d2d7156a",
   "metadata": {},
   "outputs": [],
   "source": [
    "# Maximize expected revenue\n",
    "model.setObjective(gp.quicksum(ticket_price[(j)]*prob[j] for j in range(m)), GRB.MAXIMIZE)"
   ]
  },
  {
   "cell_type": "code",
   "execution_count": 13,
   "id": "15cbb615",
   "metadata": {},
   "outputs": [
    {
     "name": "stdout",
     "output_type": "stream",
     "text": [
      "Set parameter MIPGap to value 0\n",
      "Set parameter FeasibilityTol to value 1e-09\n"
     ]
    }
   ],
   "source": [
    "model.Params.MIPGap = 0\n",
    "model.params.FeasibilityTol = 1e-09"
   ]
  },
  {
   "cell_type": "code",
   "execution_count": 14,
   "id": "2effb644",
   "metadata": {
    "scrolled": false
   },
   "outputs": [
    {
     "name": "stdout",
     "output_type": "stream",
     "text": [
      "Gurobi Optimizer version 9.5.1 build v9.5.1rc2 (mac64[arm])\n",
      "Thread count: 10 physical cores, 10 logical processors, using up to 10 threads\n",
      "Optimize a model with 9 rows, 27 columns and 45 nonzeros\n",
      "Model fingerprint: 0x07b3e04a\n",
      "Model has 126 quadratic constraints\n",
      "Coefficient statistics:\n",
      "  Matrix range     [1e+00, 7e+00]\n",
      "  QMatrix range    [1e+00, 7e+00]\n",
      "  QLMatrix range   [1e+00, 1e+01]\n",
      "  Objective range  [2e-01, 7e-01]\n",
      "  Bounds range     [1e+00, 1e+00]\n",
      "  RHS range        [0e+00, 0e+00]\n",
      "  QRHS range       [1e+00, 1e+01]\n",
      "\n",
      "Continuous model is non-convex -- solving as a MIP\n",
      "\n",
      "Found heuristic solution: objective -0.0000000\n",
      "Presolve removed 0 rows and 6 columns\n",
      "Presolve time: 0.00s\n",
      "Presolved: 213 rows, 69 columns, 858 nonzeros\n",
      "Presolved model has 60 bilinear constraint(s)\n",
      "Variable types: 69 continuous, 0 integer (0 binary)\n",
      "\n",
      "Root relaxation: objective 8.233333e+00, 31 iterations, 0.00 seconds (0.00 work units)\n",
      "\n",
      "    Nodes    |    Current Node    |     Objective Bounds      |     Work\n",
      " Expl Unexpl |  Obj  Depth IntInf | Incumbent    BestBd   Gap | It/Node Time\n",
      "\n",
      "     0     0    8.23333    0    6   -0.00000    8.23333      -     -    0s\n",
      "H    0     0                       7.7960000    8.23333  5.61%     -    0s\n",
      "     0     0    8.23333    0    6    7.79600    8.23333  5.61%     -    0s\n",
      "     0     0    8.23333    0    6    7.79600    8.23333  5.61%     -    0s\n",
      "     0     0    8.23333    0    6    7.79600    8.23333  5.61%     -    0s\n",
      "     0     0    8.23333    0    7    7.79600    8.23333  5.61%     -    0s\n",
      "     0     0    8.23333    0    7    7.79600    8.23333  5.61%     -    0s\n",
      "H    0     0                       7.9506708    8.23333  3.56%     -    0s\n",
      "     0     2    8.23333    0    7    7.95067    8.23333  3.56%     -    0s\n",
      "H    3     8                       7.9894601    8.23333  3.05%   8.0    0s\n",
      "H    5     8                       8.0139560    8.23333  2.74%   8.2    0s\n",
      "H   14    10                       8.0961608    8.12780  0.39%   4.8    0s\n",
      "H   33     2                       8.0963452    8.09722  0.01%   3.6    0s\n",
      "*   46     0              14       8.0963487    8.09635  0.00%   3.0    0s\n",
      "\n",
      "Cutting planes:\n",
      "  RLT: 9\n",
      "  BQP: 3\n",
      "\n",
      "Explored 48 nodes (188 simplex iterations) in 0.05 seconds (0.02 work units)\n",
      "Thread count was 10 (of 10 available processors)\n",
      "\n",
      "Solution count 7: 8.09635 8.09616 8.01396 ... -0\n",
      "\n",
      "Optimal solution found (tolerance 0.00e+00)\n",
      "Best objective 8.096348680564e+00, best bound 8.096348680564e+00, gap 0.0000%\n"
     ]
    }
   ],
   "source": [
    "model.optimize()"
   ]
  },
  {
   "cell_type": "markdown",
   "id": "0c6a5980",
   "metadata": {},
   "source": [
    "### Print Primal Variables"
   ]
  },
  {
   "cell_type": "code",
   "execution_count": 15,
   "id": "0f900406",
   "metadata": {
    "scrolled": false
   },
   "outputs": [
    {
     "name": "stdout",
     "output_type": "stream",
     "text": [
      "Objective Value:\n",
      "8.096348680564136\n",
      "MENU:\n",
      "ticket_price[0] 0.5780920833848175\n",
      "ticket_price[1] 4.0\n",
      "ticket_price[2] 11.0\n",
      "ticket_prob[0,0] 0.08258458334068823\n",
      "ticket_prob[0,1] 0.08258458334068822\n",
      "ticket_prob[1,0] 1.0\n",
      "ticket_prob[1,1] 0.0\n",
      "ticket_prob[2,0] 1.0\n",
      "ticket_prob[2,1] 1.0\n",
      "\n",
      "Menu in Array Format:\n",
      "Price: [0.5780920833848175, 4.0, 11.0]\n",
      "Allocation: [[0.08258458334068823, 0.08258458334068822], [1.0, 0.0], [1.0, 1.0]]\n"
     ]
    }
   ],
   "source": [
    "menu_price = []\n",
    "menu_ticket = []\n",
    "obj = model.getObjective()\n",
    "print(\"Objective Value:\")\n",
    "print(obj.getValue())\n",
    "for i in range(m):\n",
    "    menu_ticket.append([])\n",
    "print(\"MENU:\")\n",
    "for v in model.getVars(): \n",
    "    if(v.varName[:12] == \"ticket_price\"):\n",
    "        print(v.varName, v.x)\n",
    "        menu_price.append(v.x)\n",
    "    elif(v.varName[:11] == \"ticket_prob\"):\n",
    "        print(v.varName, v.x)\n",
    "        menu_ticket[int(v.varName[12:13])].append(v.x)\n",
    "\n",
    "print(\"\\nMenu in Array Format:\")\n",
    "print(f\"Price: {menu_price}\")\n",
    "print(f\"Allocation: {menu_ticket}\")"
   ]
  },
  {
   "cell_type": "markdown",
   "id": "5deda7e0",
   "metadata": {},
   "source": [
    "### Check if Menu is Buy-4 Incentive Compatible"
   ]
  },
  {
   "cell_type": "code",
   "execution_count": 16,
   "id": "7611ed47",
   "metadata": {},
   "outputs": [],
   "source": [
    "# Given a series of lottery tickets q and the number of items n\n",
    "# Compute the corresponding additive combined ticket\n",
    "def lottery(q,n):\n",
    "    lot = [1]*n\n",
    "    for i in range(n):\n",
    "        for j in range(len(q)):\n",
    "            lot[i] = lot[i] * (1- q[j][i]) \n",
    "        lot[i] = 1 - lot[i]\n",
    "    return lot"
   ]
  },
  {
   "cell_type": "code",
   "execution_count": 17,
   "id": "b11cb02c",
   "metadata": {},
   "outputs": [
    {
     "name": "stdout",
     "output_type": "stream",
     "text": [
      "Buyer Preference: [5, 7]\n",
      "Alternative multi-set: [[0.08258458334068823, 0.08258458334068822], [0.08258458334068823, 0.08258458334068822], [0.08258458334068823, 0.08258458334068822], [0.08258458334068823, 0.08258458334068822]]\n",
      "Combined Lottery allocation of multi-set: [0.2916235155480944, 0.2916235155480944]\n",
      "Original Ticket Allocation: [1.0, 1.0]\n",
      "New Utility: 1.1871138530378627\n",
      "Old Utility: 1.0\n",
      "MENU IS NOT BUY-4 COMPATIBLE\n"
     ]
    }
   ],
   "source": [
    "# Iterate over tickets and for each ticket i look at every multi-set of k other tickets\n",
    "# and see if the buyer who likes i would rather purchase the alternative multiset\n",
    "# If so, print out information and warning message\n",
    "k = 4\n",
    "for i in range(m):\n",
    "    x = values[i]\n",
    "    combos = list(itertools.combinations_with_replacement(list(range(len(menu_ticket))), k))\n",
    "    for index in combos:\n",
    "        grouping = []\n",
    "        total_price = 0\n",
    "        for j in range(len(index)):\n",
    "            grouping.append(menu_ticket[index[j]])\n",
    "            total_price = total_price + menu_price[index[j]]\n",
    "        lotReturn = lottery(grouping,n)\n",
    "        newUtil = np.dot(lotReturn, x, out = None) - total_price \n",
    "        oldUtil = np.dot(menu_ticket[i], x, out = None) - menu_price[i]\n",
    "\n",
    "        if(newUtil > oldUtil):\n",
    "            print(f\"Buyer Preference: {x}\")\n",
    "            print(f\"Alternative multi-set: {grouping}\")\n",
    "            print(f\"Combined Lottery allocation of multi-set: {lotReturn}\")\n",
    "            print(f\"Original Ticket Allocation: {menu_ticket[i]}\")\n",
    "            print(f\"New Utility: {newUtil}\")\n",
    "            print(f\"Old Utility: {oldUtil}\")\n",
    "            print(f\"MENU IS NOT BUY-{k} COMPATIBLE\")"
   ]
  },
  {
   "cell_type": "markdown",
   "id": "1287bc43",
   "metadata": {},
   "source": [
    "### Print Out Model Details"
   ]
  },
  {
   "cell_type": "code",
   "execution_count": 18,
   "id": "5384d7c2",
   "metadata": {
    "scrolled": true
   },
   "outputs": [
    {
     "name": "stdout",
     "output_type": "stream",
     "text": [
      "Maximize\n",
      "<gurobi.LinExpr: 0.16666666666666666 ticket_price[0]\n",
      "+ 0.16666666666666666 ticket_price[1] + 0.6666666666666666 ticket_price[2]>\n",
      "Subject To\n",
      "Non-Negative Utility[0]: <gurobi.LinExpr: -1.0 ticket_price[0] + 3.0 ticket_prob[0,0] +\n",
      " 4.0 ticket_prob[0,1]> >= 0\n",
      "Non-Negative Utility[1]: <gurobi.LinExpr: -1.0 ticket_price[1] + 4.0 ticket_prob[1,0] +\n",
      " 3.0 ticket_prob[1,1]> >= 0\n",
      "Non-Negative Utility[2]: <gurobi.LinExpr: -1.0 ticket_price[2] + 5.0 ticket_prob[2,0] +\n",
      " 7.0 ticket_prob[2,1]> >= 0\n",
      "IC-1: <gurobi.LinExpr: -1.0 ticket_price[0] + ticket_price[1] + 3.0 ticket_prob[0,0] +\n",
      " 4.0 ticket_prob[0,1] + -3.0 ticket_prob[1,0] + -4.0 ticket_prob[1,1]> >= 0\n",
      "IC-1: <gurobi.LinExpr: -1.0 ticket_price[0] + ticket_price[2] + 3.0 ticket_prob[0,0] +\n",
      " 4.0 ticket_prob[0,1] + -3.0 ticket_prob[2,0] + -4.0 ticket_prob[2,1]> >= 0\n",
      "IC-1: <gurobi.LinExpr: ticket_price[0] + -1.0 ticket_price[1] + -4.0 ticket_prob[0,0] +\n",
      " -3.0 ticket_prob[0,1] + 4.0 ticket_prob[1,0] + 3.0 ticket_prob[1,1]> >= 0\n",
      "IC-1: <gurobi.LinExpr: -1.0 ticket_price[1] + ticket_price[2] + 4.0 ticket_prob[1,0] +\n",
      " 3.0 ticket_prob[1,1] + -4.0 ticket_prob[2,0] + -3.0 ticket_prob[2,1]> >= 0\n",
      "IC-1: <gurobi.LinExpr: ticket_price[0] + -1.0 ticket_price[2] + -5.0 ticket_prob[0,0] +\n",
      " -7.0 ticket_prob[0,1] + 5.0 ticket_prob[2,0] + 7.0 ticket_prob[2,1]> >= 0\n",
      "IC-1: <gurobi.LinExpr: ticket_price[1] + -1.0 ticket_price[2] + -5.0 ticket_prob[1,0] +\n",
      " -7.0 ticket_prob[1,1] + 5.0 ticket_prob[2,0] + 7.0 ticket_prob[2,1]> >= 0\n",
      "Quad: <gurobi.QuadExpr: 2.0 ticket_prob[0,0] + quad_help[0,0,0] + [ -1.0\n",
      " ticket_prob[0,0] ^ 2 ]> >= 1\n",
      "Quad: <gurobi.QuadExpr: ticket_prob[0,0] + ticket_prob[1,0] + quad_help[0,0,1] + [ -1.0\n",
      " ticket_prob[0,0] * ticket_prob[1,0] ]> >= 1\n",
      "Quad: <gurobi.QuadExpr: ticket_prob[0,0] + ticket_prob[2,0] + quad_help[0,0,2] + [ -1.0\n",
      " ticket_prob[0,0] * ticket_prob[2,0] ]> >= 1\n",
      "Quad: <gurobi.QuadExpr: ticket_prob[0,0] + ticket_prob[1,0] + quad_help[0,1,0] + [ -1.0\n",
      " ticket_prob[0,0] * ticket_prob[1,0] ]> >= 1\n",
      "Quad: <gurobi.QuadExpr: 2.0 ticket_prob[1,0] + quad_help[0,1,1] + [ -1.0\n",
      " ticket_prob[1,0] ^ 2 ]> >= 1\n",
      "Quad: <gurobi.QuadExpr: ticket_prob[1,0] + ticket_prob[2,0] + quad_help[0,1,2] + [ -1.0\n",
      " ticket_prob[1,0] * ticket_prob[2,0] ]> >= 1\n",
      "Quad: <gurobi.QuadExpr: ticket_prob[0,0] + ticket_prob[2,0] + quad_help[0,2,0] + [ -1.0\n",
      " ticket_prob[0,0] * ticket_prob[2,0] ]> >= 1\n",
      "Quad: <gurobi.QuadExpr: ticket_prob[1,0] + ticket_prob[2,0] + quad_help[0,2,1] + [ -1.0\n",
      " ticket_prob[1,0] * ticket_prob[2,0] ]> >= 1\n",
      "Quad: <gurobi.QuadExpr: 2.0 ticket_prob[2,0] + quad_help[0,2,2] + [ -1.0\n",
      " ticket_prob[2,0] ^ 2 ]> >= 1\n",
      "Quad: <gurobi.QuadExpr: 2.0 ticket_prob[0,1] + quad_help[1,0,0] + [ -1.0\n",
      " ticket_prob[0,1] ^ 2 ]> >= 1\n",
      "Quad: <gurobi.QuadExpr: ticket_prob[0,1] + ticket_prob[1,1] + quad_help[1,0,1] + [ -1.0\n",
      " ticket_prob[0,1] * ticket_prob[1,1] ]> >= 1\n",
      "Quad: <gurobi.QuadExpr: ticket_prob[0,1] + ticket_prob[2,1] + quad_help[1,0,2] + [ -1.0\n",
      " ticket_prob[0,1] * ticket_prob[2,1] ]> >= 1\n",
      "Quad: <gurobi.QuadExpr: ticket_prob[0,1] + ticket_prob[1,1] + quad_help[1,1,0] + [ -1.0\n",
      " ticket_prob[0,1] * ticket_prob[1,1] ]> >= 1\n",
      "Quad: <gurobi.QuadExpr: 2.0 ticket_prob[1,1] + quad_help[1,1,1] + [ -1.0\n",
      " ticket_prob[1,1] ^ 2 ]> >= 1\n",
      "Quad: <gurobi.QuadExpr: ticket_prob[1,1] + ticket_prob[2,1] + quad_help[1,1,2] + [ -1.0\n",
      " ticket_prob[1,1] * ticket_prob[2,1] ]> >= 1\n",
      "Quad: <gurobi.QuadExpr: ticket_prob[0,1] + ticket_prob[2,1] + quad_help[1,2,0] + [ -1.0\n",
      " ticket_prob[0,1] * ticket_prob[2,1] ]> >= 1\n",
      "Quad: <gurobi.QuadExpr: ticket_prob[1,1] + ticket_prob[2,1] + quad_help[1,2,1] + [ -1.0\n",
      " ticket_prob[1,1] * ticket_prob[2,1] ]> >= 1\n",
      "Quad: <gurobi.QuadExpr: 2.0 ticket_prob[2,1] + quad_help[1,2,2] + [ -1.0\n",
      " ticket_prob[2,1] ^ 2 ]> >= 1\n",
      "IC-2: <gurobi.QuadExpr: ticket_price[0] + -3.0 ticket_prob[0,0] + -4.0 ticket_prob[0,1]\n",
      " + [ 3.0 ticket_prob[0,0] ^ 2 + 4.0 ticket_prob[0,1] ^ 2 ]> >= 0\n",
      "IC-2: <gurobi.QuadExpr: ticket_price[1] + -3.0 ticket_prob[1,0] + -4.0 ticket_prob[1,1]\n",
      "+ [ 3.0 ticket_prob[0,0] * ticket_prob[1,0] + 4.0 ticket_prob[0,1] * ticket_prob[1,1] ]>\n",
      " >= 0\n",
      "IC-2: <gurobi.QuadExpr: ticket_price[2] + -3.0 ticket_prob[2,0] + -4.0 ticket_prob[2,1]\n",
      "+ [ 3.0 ticket_prob[0,0] * ticket_prob[2,0] + 4.0 ticket_prob[0,1] * ticket_prob[2,1] ]>\n",
      " >= 0\n",
      "IC-2: <gurobi.QuadExpr: ticket_price[1] + -3.0 ticket_prob[1,0] + -4.0 ticket_prob[1,1]\n",
      "+ [ 3.0 ticket_prob[0,0] * ticket_prob[1,0] + 4.0 ticket_prob[0,1] * ticket_prob[1,1] ]>\n",
      " >= 0\n",
      "IC-2: <gurobi.QuadExpr: -1.0 ticket_price[0] + 2.0 ticket_price[1] + 3.0\n",
      "ticket_prob[0,0] + 4.0 ticket_prob[0,1] + -6.0 ticket_prob[1,0] + -8.0 ticket_prob[1,1]\n",
      " + [ 3.0 ticket_prob[1,0] ^ 2 + 4.0 ticket_prob[1,1] ^ 2 ]> >= 0\n",
      "IC-2: <gurobi.QuadExpr: -1.0 ticket_price[0] + ticket_price[1] + ticket_price[2] + 3.0\n",
      "ticket_prob[0,0] + 4.0 ticket_prob[0,1] + -3.0 ticket_prob[1,0] + -4.0 ticket_prob[1,1]\n",
      "+ -3.0 ticket_prob[2,0] + -4.0 ticket_prob[2,1] + [ 3.0 ticket_prob[1,0] *\n",
      " ticket_prob[2,0] + 4.0 ticket_prob[1,1] * ticket_prob[2,1] ]> >= 0\n",
      "IC-2: <gurobi.QuadExpr: ticket_price[2] + -3.0 ticket_prob[2,0] + -4.0 ticket_prob[2,1]\n",
      "+ [ 3.0 ticket_prob[0,0] * ticket_prob[2,0] + 4.0 ticket_prob[0,1] * ticket_prob[2,1] ]>\n",
      " >= 0\n",
      "IC-2: <gurobi.QuadExpr: -1.0 ticket_price[0] + ticket_price[1] + ticket_price[2] + 3.0\n",
      "ticket_prob[0,0] + 4.0 ticket_prob[0,1] + -3.0 ticket_prob[1,0] + -4.0 ticket_prob[1,1]\n",
      "+ -3.0 ticket_prob[2,0] + -4.0 ticket_prob[2,1] + [ 3.0 ticket_prob[1,0] *\n",
      " ticket_prob[2,0] + 4.0 ticket_prob[1,1] * ticket_prob[2,1] ]> >= 0\n",
      "IC-2: <gurobi.QuadExpr: -1.0 ticket_price[0] + 2.0 ticket_price[2] + 3.0\n",
      "ticket_prob[0,0] + 4.0 ticket_prob[0,1] + -6.0 ticket_prob[2,0] + -8.0 ticket_prob[2,1]\n",
      " + [ 3.0 ticket_prob[2,0] ^ 2 + 4.0 ticket_prob[2,1] ^ 2 ]> >= 0\n",
      "IC-2: <gurobi.QuadExpr: 2.0 ticket_price[0] + -1.0 ticket_price[1] + -8.0\n",
      "ticket_prob[0,0] + -6.0 ticket_prob[0,1] + 4.0 ticket_prob[1,0] + 3.0 ticket_prob[1,1] +\n",
      " [ 4.0 ticket_prob[0,0] ^ 2 + 3.0 ticket_prob[0,1] ^ 2 ]> >= 0\n",
      "IC-2: <gurobi.QuadExpr: ticket_price[0] + -4.0 ticket_prob[0,0] + -3.0 ticket_prob[0,1]\n",
      "+ [ 4.0 ticket_prob[0,0] * ticket_prob[1,0] + 3.0 ticket_prob[0,1] * ticket_prob[1,1] ]>\n",
      " >= 0\n",
      "IC-2: <gurobi.QuadExpr: ticket_price[0] + -1.0 ticket_price[1] + ticket_price[2] + -4.0\n",
      "ticket_prob[0,0] + -3.0 ticket_prob[0,1] + 4.0 ticket_prob[1,0] + 3.0 ticket_prob[1,1] +\n",
      "-4.0 ticket_prob[2,0] + -3.0 ticket_prob[2,1] + [ 4.0 ticket_prob[0,0] *\n",
      " ticket_prob[2,0] + 3.0 ticket_prob[0,1] * ticket_prob[2,1] ]> >= 0\n",
      "IC-2: <gurobi.QuadExpr: ticket_price[0] + -4.0 ticket_prob[0,0] + -3.0 ticket_prob[0,1]\n",
      "+ [ 4.0 ticket_prob[0,0] * ticket_prob[1,0] + 3.0 ticket_prob[0,1] * ticket_prob[1,1] ]>\n",
      " >= 0\n",
      "IC-2: <gurobi.QuadExpr: ticket_price[1] + -4.0 ticket_prob[1,0] + -3.0 ticket_prob[1,1]\n",
      " + [ 4.0 ticket_prob[1,0] ^ 2 + 3.0 ticket_prob[1,1] ^ 2 ]> >= 0\n",
      "IC-2: <gurobi.QuadExpr: ticket_price[2] + -4.0 ticket_prob[2,0] + -3.0 ticket_prob[2,1]\n",
      "+ [ 4.0 ticket_prob[1,0] * ticket_prob[2,0] + 3.0 ticket_prob[1,1] * ticket_prob[2,1] ]>\n",
      " >= 0\n",
      "IC-2: <gurobi.QuadExpr: ticket_price[0] + -1.0 ticket_price[1] + ticket_price[2] + -4.0\n",
      "ticket_prob[0,0] + -3.0 ticket_prob[0,1] + 4.0 ticket_prob[1,0] + 3.0 ticket_prob[1,1] +\n",
      "-4.0 ticket_prob[2,0] + -3.0 ticket_prob[2,1] + [ 4.0 ticket_prob[0,0] *\n",
      " ticket_prob[2,0] + 3.0 ticket_prob[0,1] * ticket_prob[2,1] ]> >= 0\n",
      "IC-2: <gurobi.QuadExpr: ticket_price[2] + -4.0 ticket_prob[2,0] + -3.0 ticket_prob[2,1]\n",
      "+ [ 4.0 ticket_prob[1,0] * ticket_prob[2,0] + 3.0 ticket_prob[1,1] * ticket_prob[2,1] ]>\n",
      " >= 0\n",
      "IC-2: <gurobi.QuadExpr: -1.0 ticket_price[1] + 2.0 ticket_price[2] + 4.0\n",
      "ticket_prob[1,0] + 3.0 ticket_prob[1,1] + -8.0 ticket_prob[2,0] + -6.0 ticket_prob[2,1]\n",
      " + [ 4.0 ticket_prob[2,0] ^ 2 + 3.0 ticket_prob[2,1] ^ 2 ]> >= 0\n",
      "IC-2: <gurobi.QuadExpr: 2.0 ticket_price[0] + -1.0 ticket_price[2] + -10.0\n",
      "ticket_prob[0,0] + -14.0 ticket_prob[0,1] + 5.0 ticket_prob[2,0] + 7.0 ticket_prob[2,1]\n",
      " + [ 5.0 ticket_prob[0,0] ^ 2 + 7.0 ticket_prob[0,1] ^ 2 ]> >= 0\n",
      "IC-2: <gurobi.QuadExpr: ticket_price[0] + ticket_price[1] + -1.0 ticket_price[2] + -5.0\n",
      "ticket_prob[0,0] + -7.0 ticket_prob[0,1] + -5.0 ticket_prob[1,0] + -7.0 ticket_prob[1,1]\n",
      "+ 5.0 ticket_prob[2,0] + 7.0 ticket_prob[2,1] + [ 5.0 ticket_prob[0,0] *\n",
      " ticket_prob[1,0] + 7.0 ticket_prob[0,1] * ticket_prob[1,1] ]> >= 0\n",
      "IC-2: <gurobi.QuadExpr: ticket_price[0] + -5.0 ticket_prob[0,0] + -7.0 ticket_prob[0,1]\n"
     ]
    },
    {
     "name": "stdout",
     "output_type": "stream",
     "text": [
      "+ [ 5.0 ticket_prob[0,0] * ticket_prob[2,0] + 7.0 ticket_prob[0,1] * ticket_prob[2,1] ]>\n",
      " >= 0\n",
      "IC-2: <gurobi.QuadExpr: ticket_price[0] + ticket_price[1] + -1.0 ticket_price[2] + -5.0\n",
      "ticket_prob[0,0] + -7.0 ticket_prob[0,1] + -5.0 ticket_prob[1,0] + -7.0 ticket_prob[1,1]\n",
      "+ 5.0 ticket_prob[2,0] + 7.0 ticket_prob[2,1] + [ 5.0 ticket_prob[0,0] *\n",
      " ticket_prob[1,0] + 7.0 ticket_prob[0,1] * ticket_prob[1,1] ]> >= 0\n",
      "IC-2: <gurobi.QuadExpr: 2.0 ticket_price[1] + -1.0 ticket_price[2] + -10.0\n",
      "ticket_prob[1,0] + -14.0 ticket_prob[1,1] + 5.0 ticket_prob[2,0] + 7.0 ticket_prob[2,1]\n",
      " + [ 5.0 ticket_prob[1,0] ^ 2 + 7.0 ticket_prob[1,1] ^ 2 ]> >= 0\n",
      "IC-2: <gurobi.QuadExpr: ticket_price[1] + -5.0 ticket_prob[1,0] + -7.0 ticket_prob[1,1]\n",
      "+ [ 5.0 ticket_prob[1,0] * ticket_prob[2,0] + 7.0 ticket_prob[1,1] * ticket_prob[2,1] ]>\n",
      " >= 0\n",
      "IC-2: <gurobi.QuadExpr: ticket_price[0] + -5.0 ticket_prob[0,0] + -7.0 ticket_prob[0,1]\n",
      "+ [ 5.0 ticket_prob[0,0] * ticket_prob[2,0] + 7.0 ticket_prob[0,1] * ticket_prob[2,1] ]>\n",
      " >= 0\n",
      "IC-2: <gurobi.QuadExpr: ticket_price[1] + -5.0 ticket_prob[1,0] + -7.0 ticket_prob[1,1]\n",
      "+ [ 5.0 ticket_prob[1,0] * ticket_prob[2,0] + 7.0 ticket_prob[1,1] * ticket_prob[2,1] ]>\n",
      " >= 0\n",
      "IC-2: <gurobi.QuadExpr: ticket_price[2] + -5.0 ticket_prob[2,0] + -7.0 ticket_prob[2,1]\n",
      " + [ 5.0 ticket_prob[2,0] ^ 2 + 7.0 ticket_prob[2,1] ^ 2 ]> >= 0\n",
      "IC-3: <gurobi.QuadExpr: 2.0 ticket_price[0] + 3.0 ticket_prob[0,0] + 4.0\n",
      "ticket_prob[0,1] + 3.0 quad_help[0,0,0] + 4.0 quad_help[1,0,0] + [ -3.0 ticket_prob[0,0]\n",
      " * quad_help[0,0,0] + -4.0 ticket_prob[0,1] * quad_help[1,0,0] ]> >= 7\n",
      "IC-3: <gurobi.QuadExpr: ticket_price[0] + ticket_price[1] + 3.0 ticket_prob[0,0] + 4.0\n",
      "ticket_prob[0,1] + 3.0 quad_help[0,0,0] + 4.0 quad_help[1,0,0] + [ -3.0 ticket_prob[1,0]\n",
      " * quad_help[0,0,0] + -4.0 ticket_prob[1,1] * quad_help[1,0,0] ]> >= 7\n",
      "IC-3: <gurobi.QuadExpr: ticket_price[0] + ticket_price[2] + 3.0 ticket_prob[0,0] + 4.0\n",
      "ticket_prob[0,1] + 3.0 quad_help[0,0,0] + 4.0 quad_help[1,0,0] + [ -3.0 ticket_prob[2,0]\n",
      " * quad_help[0,0,0] + -4.0 ticket_prob[2,1] * quad_help[1,0,0] ]> >= 7\n",
      "IC-3: <gurobi.QuadExpr: ticket_price[0] + ticket_price[1] + 3.0 ticket_prob[0,0] + 4.0\n",
      "ticket_prob[0,1] + 3.0 quad_help[0,0,1] + 4.0 quad_help[1,0,1] + [ -3.0 ticket_prob[0,0]\n",
      " * quad_help[0,0,1] + -4.0 ticket_prob[0,1] * quad_help[1,0,1] ]> >= 7\n",
      "IC-3: <gurobi.QuadExpr: 2.0 ticket_price[1] + 3.0 ticket_prob[0,0] + 4.0\n",
      "ticket_prob[0,1] + 3.0 quad_help[0,0,1] + 4.0 quad_help[1,0,1] + [ -3.0 ticket_prob[1,0]\n",
      " * quad_help[0,0,1] + -4.0 ticket_prob[1,1] * quad_help[1,0,1] ]> >= 7\n",
      "IC-3: <gurobi.QuadExpr: ticket_price[1] + ticket_price[2] + 3.0 ticket_prob[0,0] + 4.0\n",
      "ticket_prob[0,1] + 3.0 quad_help[0,0,1] + 4.0 quad_help[1,0,1] + [ -3.0 ticket_prob[2,0]\n",
      " * quad_help[0,0,1] + -4.0 ticket_prob[2,1] * quad_help[1,0,1] ]> >= 7\n",
      "IC-3: <gurobi.QuadExpr: ticket_price[0] + ticket_price[2] + 3.0 ticket_prob[0,0] + 4.0\n",
      "ticket_prob[0,1] + 3.0 quad_help[0,0,2] + 4.0 quad_help[1,0,2] + [ -3.0 ticket_prob[0,0]\n",
      " * quad_help[0,0,2] + -4.0 ticket_prob[0,1] * quad_help[1,0,2] ]> >= 7\n",
      "IC-3: <gurobi.QuadExpr: ticket_price[1] + ticket_price[2] + 3.0 ticket_prob[0,0] + 4.0\n",
      "ticket_prob[0,1] + 3.0 quad_help[0,0,2] + 4.0 quad_help[1,0,2] + [ -3.0 ticket_prob[1,0]\n",
      " * quad_help[0,0,2] + -4.0 ticket_prob[1,1] * quad_help[1,0,2] ]> >= 7\n",
      "IC-3: <gurobi.QuadExpr: 2.0 ticket_price[2] + 3.0 ticket_prob[0,0] + 4.0\n",
      "ticket_prob[0,1] + 3.0 quad_help[0,0,2] + 4.0 quad_help[1,0,2] + [ -3.0 ticket_prob[2,0]\n",
      " * quad_help[0,0,2] + -4.0 ticket_prob[2,1] * quad_help[1,0,2] ]> >= 7\n",
      "IC-3: <gurobi.QuadExpr: ticket_price[0] + ticket_price[1] + 3.0 ticket_prob[0,0] + 4.0\n",
      "ticket_prob[0,1] + 3.0 quad_help[0,1,0] + 4.0 quad_help[1,1,0] + [ -3.0 ticket_prob[0,0]\n",
      " * quad_help[0,1,0] + -4.0 ticket_prob[0,1] * quad_help[1,1,0] ]> >= 7\n",
      "IC-3: <gurobi.QuadExpr: 2.0 ticket_price[1] + 3.0 ticket_prob[0,0] + 4.0\n",
      "ticket_prob[0,1] + 3.0 quad_help[0,1,0] + 4.0 quad_help[1,1,0] + [ -3.0 ticket_prob[1,0]\n",
      " * quad_help[0,1,0] + -4.0 ticket_prob[1,1] * quad_help[1,1,0] ]> >= 7\n",
      "IC-3: <gurobi.QuadExpr: ticket_price[1] + ticket_price[2] + 3.0 ticket_prob[0,0] + 4.0\n",
      "ticket_prob[0,1] + 3.0 quad_help[0,1,0] + 4.0 quad_help[1,1,0] + [ -3.0 ticket_prob[2,0]\n",
      " * quad_help[0,1,0] + -4.0 ticket_prob[2,1] * quad_help[1,1,0] ]> >= 7\n",
      "IC-3: <gurobi.QuadExpr: 2.0 ticket_price[1] + 3.0 ticket_prob[0,0] + 4.0\n",
      "ticket_prob[0,1] + 3.0 quad_help[0,1,1] + 4.0 quad_help[1,1,1] + [ -3.0 ticket_prob[0,0]\n",
      " * quad_help[0,1,1] + -4.0 ticket_prob[0,1] * quad_help[1,1,1] ]> >= 7\n",
      "IC-3: <gurobi.QuadExpr: -1.0 ticket_price[0] + 3.0 ticket_price[1] + 3.0\n",
      "ticket_prob[0,0] + 4.0 ticket_prob[0,1] + 3.0 quad_help[0,1,1] + 4.0 quad_help[1,1,1] +\n",
      "[ -3.0 ticket_prob[1,0] * quad_help[0,1,1] + -4.0 ticket_prob[1,1] * quad_help[1,1,1] ]>\n",
      " >= 7\n",
      "IC-3: <gurobi.QuadExpr: -1.0 ticket_price[0] + 2.0 ticket_price[1] + ticket_price[2] +\n",
      "3.0 ticket_prob[0,0] + 4.0 ticket_prob[0,1] + 3.0 quad_help[0,1,1] + 4.0\n",
      "quad_help[1,1,1] + [ -3.0 ticket_prob[2,0] * quad_help[0,1,1] + -4.0 ticket_prob[2,1] *\n",
      " quad_help[1,1,1] ]> >= 7\n",
      "IC-3: <gurobi.QuadExpr: ticket_price[1] + ticket_price[2] + 3.0 ticket_prob[0,0] + 4.0\n",
      "ticket_prob[0,1] + 3.0 quad_help[0,1,2] + 4.0 quad_help[1,1,2] + [ -3.0 ticket_prob[0,0]\n",
      " * quad_help[0,1,2] + -4.0 ticket_prob[0,1] * quad_help[1,1,2] ]> >= 7\n",
      "IC-3: <gurobi.QuadExpr: -1.0 ticket_price[0] + 2.0 ticket_price[1] + ticket_price[2] +\n",
      "3.0 ticket_prob[0,0] + 4.0 ticket_prob[0,1] + 3.0 quad_help[0,1,2] + 4.0\n",
      "quad_help[1,1,2] + [ -3.0 ticket_prob[1,0] * quad_help[0,1,2] + -4.0 ticket_prob[1,1] *\n",
      " quad_help[1,1,2] ]> >= 7\n",
      "IC-3: <gurobi.QuadExpr: -1.0 ticket_price[0] + ticket_price[1] + 2.0 ticket_price[2] +\n",
      "3.0 ticket_prob[0,0] + 4.0 ticket_prob[0,1] + 3.0 quad_help[0,1,2] + 4.0\n",
      "quad_help[1,1,2] + [ -3.0 ticket_prob[2,0] * quad_help[0,1,2] + -4.0 ticket_prob[2,1] *\n",
      " quad_help[1,1,2] ]> >= 7\n",
      "IC-3: <gurobi.QuadExpr: ticket_price[0] + ticket_price[2] + 3.0 ticket_prob[0,0] + 4.0\n",
      "ticket_prob[0,1] + 3.0 quad_help[0,2,0] + 4.0 quad_help[1,2,0] + [ -3.0 ticket_prob[0,0]\n",
      " * quad_help[0,2,0] + -4.0 ticket_prob[0,1] * quad_help[1,2,0] ]> >= 7\n",
      "IC-3: <gurobi.QuadExpr: ticket_price[1] + ticket_price[2] + 3.0 ticket_prob[0,0] + 4.0\n",
      "ticket_prob[0,1] + 3.0 quad_help[0,2,0] + 4.0 quad_help[1,2,0] + [ -3.0 ticket_prob[1,0]\n",
      " * quad_help[0,2,0] + -4.0 ticket_prob[1,1] * quad_help[1,2,0] ]> >= 7\n",
      "IC-3: <gurobi.QuadExpr: 2.0 ticket_price[2] + 3.0 ticket_prob[0,0] + 4.0\n",
      "ticket_prob[0,1] + 3.0 quad_help[0,2,0] + 4.0 quad_help[1,2,0] + [ -3.0 ticket_prob[2,0]\n",
      " * quad_help[0,2,0] + -4.0 ticket_prob[2,1] * quad_help[1,2,0] ]> >= 7\n",
      "IC-3: <gurobi.QuadExpr: ticket_price[1] + ticket_price[2] + 3.0 ticket_prob[0,0] + 4.0\n",
      "ticket_prob[0,1] + 3.0 quad_help[0,2,1] + 4.0 quad_help[1,2,1] + [ -3.0 ticket_prob[0,0]\n",
      " * quad_help[0,2,1] + -4.0 ticket_prob[0,1] * quad_help[1,2,1] ]> >= 7\n",
      "IC-3: <gurobi.QuadExpr: -1.0 ticket_price[0] + 2.0 ticket_price[1] + ticket_price[2] +\n",
      "3.0 ticket_prob[0,0] + 4.0 ticket_prob[0,1] + 3.0 quad_help[0,2,1] + 4.0\n",
      "quad_help[1,2,1] + [ -3.0 ticket_prob[1,0] * quad_help[0,2,1] + -4.0 ticket_prob[1,1] *\n",
      " quad_help[1,2,1] ]> >= 7\n",
      "IC-3: <gurobi.QuadExpr: -1.0 ticket_price[0] + ticket_price[1] + 2.0 ticket_price[2] +\n",
      "3.0 ticket_prob[0,0] + 4.0 ticket_prob[0,1] + 3.0 quad_help[0,2,1] + 4.0\n",
      "quad_help[1,2,1] + [ -3.0 ticket_prob[2,0] * quad_help[0,2,1] + -4.0 ticket_prob[2,1] *\n",
      " quad_help[1,2,1] ]> >= 7\n",
      "IC-3: <gurobi.QuadExpr: 2.0 ticket_price[2] + 3.0 ticket_prob[0,0] + 4.0\n",
      "ticket_prob[0,1] + 3.0 quad_help[0,2,2] + 4.0 quad_help[1,2,2] + [ -3.0 ticket_prob[0,0]\n",
      " * quad_help[0,2,2] + -4.0 ticket_prob[0,1] * quad_help[1,2,2] ]> >= 7\n",
      "IC-3: <gurobi.QuadExpr: -1.0 ticket_price[0] + ticket_price[1] + 2.0 ticket_price[2] +\n",
      "3.0 ticket_prob[0,0] + 4.0 ticket_prob[0,1] + 3.0 quad_help[0,2,2] + 4.0\n",
      "quad_help[1,2,2] + [ -3.0 ticket_prob[1,0] * quad_help[0,2,2] + -4.0 ticket_prob[1,1] *\n",
      " quad_help[1,2,2] ]> >= 7\n",
      "IC-3: <gurobi.QuadExpr: -1.0 ticket_price[0] + 3.0 ticket_price[2] + 3.0\n",
      "ticket_prob[0,0] + 4.0 ticket_prob[0,1] + 3.0 quad_help[0,2,2] + 4.0 quad_help[1,2,2] +\n",
      "[ -3.0 ticket_prob[2,0] * quad_help[0,2,2] + -4.0 ticket_prob[2,1] * quad_help[1,2,2] ]>\n",
      " >= 7\n",
      "IC-3: <gurobi.QuadExpr: 3.0 ticket_price[0] + -1.0 ticket_price[1] + 4.0\n",
      "ticket_prob[1,0] + 3.0 ticket_prob[1,1] + 4.0 quad_help[0,0,0] + 3.0 quad_help[1,0,0] +\n"
     ]
    },
    {
     "name": "stdout",
     "output_type": "stream",
     "text": [
      "[ -4.0 ticket_prob[0,0] * quad_help[0,0,0] + -3.0 ticket_prob[0,1] * quad_help[1,0,0] ]>\n",
      " >= 7\n",
      "IC-3: <gurobi.QuadExpr: 2.0 ticket_price[0] + 4.0 ticket_prob[1,0] + 3.0\n",
      "ticket_prob[1,1] + 4.0 quad_help[0,0,0] + 3.0 quad_help[1,0,0] + [ -4.0 ticket_prob[1,0]\n",
      " * quad_help[0,0,0] + -3.0 ticket_prob[1,1] * quad_help[1,0,0] ]> >= 7\n",
      "IC-3: <gurobi.QuadExpr: 2.0 ticket_price[0] + -1.0 ticket_price[1] + ticket_price[2] +\n",
      "4.0 ticket_prob[1,0] + 3.0 ticket_prob[1,1] + 4.0 quad_help[0,0,0] + 3.0\n",
      "quad_help[1,0,0] + [ -4.0 ticket_prob[2,0] * quad_help[0,0,0] + -3.0 ticket_prob[2,1] *\n",
      " quad_help[1,0,0] ]> >= 7\n",
      "IC-3: <gurobi.QuadExpr: 2.0 ticket_price[0] + 4.0 ticket_prob[1,0] + 3.0\n",
      "ticket_prob[1,1] + 4.0 quad_help[0,0,1] + 3.0 quad_help[1,0,1] + [ -4.0 ticket_prob[0,0]\n",
      " * quad_help[0,0,1] + -3.0 ticket_prob[0,1] * quad_help[1,0,1] ]> >= 7\n",
      "IC-3: <gurobi.QuadExpr: ticket_price[0] + ticket_price[1] + 4.0 ticket_prob[1,0] + 3.0\n",
      "ticket_prob[1,1] + 4.0 quad_help[0,0,1] + 3.0 quad_help[1,0,1] + [ -4.0 ticket_prob[1,0]\n",
      " * quad_help[0,0,1] + -3.0 ticket_prob[1,1] * quad_help[1,0,1] ]> >= 7\n",
      "IC-3: <gurobi.QuadExpr: ticket_price[0] + ticket_price[2] + 4.0 ticket_prob[1,0] + 3.0\n",
      "ticket_prob[1,1] + 4.0 quad_help[0,0,1] + 3.0 quad_help[1,0,1] + [ -4.0 ticket_prob[2,0]\n",
      " * quad_help[0,0,1] + -3.0 ticket_prob[2,1] * quad_help[1,0,1] ]> >= 7\n",
      "IC-3: <gurobi.QuadExpr: 2.0 ticket_price[0] + -1.0 ticket_price[1] + ticket_price[2] +\n",
      "4.0 ticket_prob[1,0] + 3.0 ticket_prob[1,1] + 4.0 quad_help[0,0,2] + 3.0\n",
      "quad_help[1,0,2] + [ -4.0 ticket_prob[0,0] * quad_help[0,0,2] + -3.0 ticket_prob[0,1] *\n",
      " quad_help[1,0,2] ]> >= 7\n",
      "IC-3: <gurobi.QuadExpr: ticket_price[0] + ticket_price[2] + 4.0 ticket_prob[1,0] + 3.0\n",
      "ticket_prob[1,1] + 4.0 quad_help[0,0,2] + 3.0 quad_help[1,0,2] + [ -4.0 ticket_prob[1,0]\n",
      " * quad_help[0,0,2] + -3.0 ticket_prob[1,1] * quad_help[1,0,2] ]> >= 7\n",
      "IC-3: <gurobi.QuadExpr: ticket_price[0] + -1.0 ticket_price[1] + 2.0 ticket_price[2] +\n",
      "4.0 ticket_prob[1,0] + 3.0 ticket_prob[1,1] + 4.0 quad_help[0,0,2] + 3.0\n",
      "quad_help[1,0,2] + [ -4.0 ticket_prob[2,0] * quad_help[0,0,2] + -3.0 ticket_prob[2,1] *\n",
      " quad_help[1,0,2] ]> >= 7\n",
      "IC-3: <gurobi.QuadExpr: 2.0 ticket_price[0] + 4.0 ticket_prob[1,0] + 3.0\n",
      "ticket_prob[1,1] + 4.0 quad_help[0,1,0] + 3.0 quad_help[1,1,0] + [ -4.0 ticket_prob[0,0]\n",
      " * quad_help[0,1,0] + -3.0 ticket_prob[0,1] * quad_help[1,1,0] ]> >= 7\n",
      "IC-3: <gurobi.QuadExpr: ticket_price[0] + ticket_price[1] + 4.0 ticket_prob[1,0] + 3.0\n",
      "ticket_prob[1,1] + 4.0 quad_help[0,1,0] + 3.0 quad_help[1,1,0] + [ -4.0 ticket_prob[1,0]\n",
      " * quad_help[0,1,0] + -3.0 ticket_prob[1,1] * quad_help[1,1,0] ]> >= 7\n",
      "IC-3: <gurobi.QuadExpr: ticket_price[0] + ticket_price[2] + 4.0 ticket_prob[1,0] + 3.0\n",
      "ticket_prob[1,1] + 4.0 quad_help[0,1,0] + 3.0 quad_help[1,1,0] + [ -4.0 ticket_prob[2,0]\n",
      " * quad_help[0,1,0] + -3.0 ticket_prob[2,1] * quad_help[1,1,0] ]> >= 7\n",
      "IC-3: <gurobi.QuadExpr: ticket_price[0] + ticket_price[1] + 4.0 ticket_prob[1,0] + 3.0\n",
      "ticket_prob[1,1] + 4.0 quad_help[0,1,1] + 3.0 quad_help[1,1,1] + [ -4.0 ticket_prob[0,0]\n",
      " * quad_help[0,1,1] + -3.0 ticket_prob[0,1] * quad_help[1,1,1] ]> >= 7\n",
      "IC-3: <gurobi.QuadExpr: 2.0 ticket_price[1] + 4.0 ticket_prob[1,0] + 3.0\n",
      "ticket_prob[1,1] + 4.0 quad_help[0,1,1] + 3.0 quad_help[1,1,1] + [ -4.0 ticket_prob[1,0]\n",
      " * quad_help[0,1,1] + -3.0 ticket_prob[1,1] * quad_help[1,1,1] ]> >= 7\n",
      "IC-3: <gurobi.QuadExpr: ticket_price[1] + ticket_price[2] + 4.0 ticket_prob[1,0] + 3.0\n",
      "ticket_prob[1,1] + 4.0 quad_help[0,1,1] + 3.0 quad_help[1,1,1] + [ -4.0 ticket_prob[2,0]\n",
      " * quad_help[0,1,1] + -3.0 ticket_prob[2,1] * quad_help[1,1,1] ]> >= 7\n",
      "IC-3: <gurobi.QuadExpr: ticket_price[0] + ticket_price[2] + 4.0 ticket_prob[1,0] + 3.0\n",
      "ticket_prob[1,1] + 4.0 quad_help[0,1,2] + 3.0 quad_help[1,1,2] + [ -4.0 ticket_prob[0,0]\n",
      " * quad_help[0,1,2] + -3.0 ticket_prob[0,1] * quad_help[1,1,2] ]> >= 7\n",
      "IC-3: <gurobi.QuadExpr: ticket_price[1] + ticket_price[2] + 4.0 ticket_prob[1,0] + 3.0\n",
      "ticket_prob[1,1] + 4.0 quad_help[0,1,2] + 3.0 quad_help[1,1,2] + [ -4.0 ticket_prob[1,0]\n",
      " * quad_help[0,1,2] + -3.0 ticket_prob[1,1] * quad_help[1,1,2] ]> >= 7\n",
      "IC-3: <gurobi.QuadExpr: 2.0 ticket_price[2] + 4.0 ticket_prob[1,0] + 3.0\n",
      "ticket_prob[1,1] + 4.0 quad_help[0,1,2] + 3.0 quad_help[1,1,2] + [ -4.0 ticket_prob[2,0]\n",
      " * quad_help[0,1,2] + -3.0 ticket_prob[2,1] * quad_help[1,1,2] ]> >= 7\n",
      "IC-3: <gurobi.QuadExpr: 2.0 ticket_price[0] + -1.0 ticket_price[1] + ticket_price[2] +\n",
      "4.0 ticket_prob[1,0] + 3.0 ticket_prob[1,1] + 4.0 quad_help[0,2,0] + 3.0\n",
      "quad_help[1,2,0] + [ -4.0 ticket_prob[0,0] * quad_help[0,2,0] + -3.0 ticket_prob[0,1] *\n",
      " quad_help[1,2,0] ]> >= 7\n",
      "IC-3: <gurobi.QuadExpr: ticket_price[0] + ticket_price[2] + 4.0 ticket_prob[1,0] + 3.0\n",
      "ticket_prob[1,1] + 4.0 quad_help[0,2,0] + 3.0 quad_help[1,2,0] + [ -4.0 ticket_prob[1,0]\n",
      " * quad_help[0,2,0] + -3.0 ticket_prob[1,1] * quad_help[1,2,0] ]> >= 7\n",
      "IC-3: <gurobi.QuadExpr: ticket_price[0] + -1.0 ticket_price[1] + 2.0 ticket_price[2] +\n",
      "4.0 ticket_prob[1,0] + 3.0 ticket_prob[1,1] + 4.0 quad_help[0,2,0] + 3.0\n",
      "quad_help[1,2,0] + [ -4.0 ticket_prob[2,0] * quad_help[0,2,0] + -3.0 ticket_prob[2,1] *\n",
      " quad_help[1,2,0] ]> >= 7\n",
      "IC-3: <gurobi.QuadExpr: ticket_price[0] + ticket_price[2] + 4.0 ticket_prob[1,0] + 3.0\n",
      "ticket_prob[1,1] + 4.0 quad_help[0,2,1] + 3.0 quad_help[1,2,1] + [ -4.0 ticket_prob[0,0]\n",
      " * quad_help[0,2,1] + -3.0 ticket_prob[0,1] * quad_help[1,2,1] ]> >= 7\n",
      "IC-3: <gurobi.QuadExpr: ticket_price[1] + ticket_price[2] + 4.0 ticket_prob[1,0] + 3.0\n",
      "ticket_prob[1,1] + 4.0 quad_help[0,2,1] + 3.0 quad_help[1,2,1] + [ -4.0 ticket_prob[1,0]\n",
      " * quad_help[0,2,1] + -3.0 ticket_prob[1,1] * quad_help[1,2,1] ]> >= 7\n",
      "IC-3: <gurobi.QuadExpr: 2.0 ticket_price[2] + 4.0 ticket_prob[1,0] + 3.0\n",
      "ticket_prob[1,1] + 4.0 quad_help[0,2,1] + 3.0 quad_help[1,2,1] + [ -4.0 ticket_prob[2,0]\n",
      " * quad_help[0,2,1] + -3.0 ticket_prob[2,1] * quad_help[1,2,1] ]> >= 7\n",
      "IC-3: <gurobi.QuadExpr: ticket_price[0] + -1.0 ticket_price[1] + 2.0 ticket_price[2] +\n",
      "4.0 ticket_prob[1,0] + 3.0 ticket_prob[1,1] + 4.0 quad_help[0,2,2] + 3.0\n",
      "quad_help[1,2,2] + [ -4.0 ticket_prob[0,0] * quad_help[0,2,2] + -3.0 ticket_prob[0,1] *\n",
      " quad_help[1,2,2] ]> >= 7\n",
      "IC-3: <gurobi.QuadExpr: 2.0 ticket_price[2] + 4.0 ticket_prob[1,0] + 3.0\n",
      "ticket_prob[1,1] + 4.0 quad_help[0,2,2] + 3.0 quad_help[1,2,2] + [ -4.0 ticket_prob[1,0]\n",
      " * quad_help[0,2,2] + -3.0 ticket_prob[1,1] * quad_help[1,2,2] ]> >= 7\n",
      "IC-3: <gurobi.QuadExpr: -1.0 ticket_price[1] + 3.0 ticket_price[2] + 4.0\n",
      "ticket_prob[1,0] + 3.0 ticket_prob[1,1] + 4.0 quad_help[0,2,2] + 3.0 quad_help[1,2,2] +\n",
      "[ -4.0 ticket_prob[2,0] * quad_help[0,2,2] + -3.0 ticket_prob[2,1] * quad_help[1,2,2] ]>\n",
      " >= 7\n",
      "IC-3: <gurobi.QuadExpr: 3.0 ticket_price[0] + -1.0 ticket_price[2] + 5.0\n",
      "ticket_prob[2,0] + 7.0 ticket_prob[2,1] + 5.0 quad_help[0,0,0] + 7.0 quad_help[1,0,0] +\n",
      "[ -5.0 ticket_prob[0,0] * quad_help[0,0,0] + -7.0 ticket_prob[0,1] * quad_help[1,0,0] ]>\n",
      " >= 12\n",
      "IC-3: <gurobi.QuadExpr: 2.0 ticket_price[0] + ticket_price[1] + -1.0 ticket_price[2] +\n",
      "5.0 ticket_prob[2,0] + 7.0 ticket_prob[2,1] + 5.0 quad_help[0,0,0] + 7.0\n",
      "quad_help[1,0,0] + [ -5.0 ticket_prob[1,0] * quad_help[0,0,0] + -7.0 ticket_prob[1,1] *\n",
      " quad_help[1,0,0] ]> >= 12\n",
      "IC-3: <gurobi.QuadExpr: 2.0 ticket_price[0] + 5.0 ticket_prob[2,0] + 7.0\n",
      "ticket_prob[2,1] + 5.0 quad_help[0,0,0] + 7.0 quad_help[1,0,0] + [ -5.0 ticket_prob[2,0]\n",
      " * quad_help[0,0,0] + -7.0 ticket_prob[2,1] * quad_help[1,0,0] ]> >= 12\n",
      "IC-3: <gurobi.QuadExpr: 2.0 ticket_price[0] + ticket_price[1] + -1.0 ticket_price[2] +\n",
      "5.0 ticket_prob[2,0] + 7.0 ticket_prob[2,1] + 5.0 quad_help[0,0,1] + 7.0\n",
      "quad_help[1,0,1] + [ -5.0 ticket_prob[0,0] * quad_help[0,0,1] + -7.0 ticket_prob[0,1] *\n",
      " quad_help[1,0,1] ]> >= 12\n",
      "IC-3: <gurobi.QuadExpr: ticket_price[0] + 2.0 ticket_price[1] + -1.0 ticket_price[2] +\n",
      "5.0 ticket_prob[2,0] + 7.0 ticket_prob[2,1] + 5.0 quad_help[0,0,1] + 7.0\n",
      "quad_help[1,0,1] + [ -5.0 ticket_prob[1,0] * quad_help[0,0,1] + -7.0 ticket_prob[1,1] *\n",
      " quad_help[1,0,1] ]> >= 12\n",
      "IC-3: <gurobi.QuadExpr: ticket_price[0] + ticket_price[1] + 5.0 ticket_prob[2,0] + 7.0\n",
      "ticket_prob[2,1] + 5.0 quad_help[0,0,1] + 7.0 quad_help[1,0,1] + [ -5.0 ticket_prob[2,0]\n",
      " * quad_help[0,0,1] + -7.0 ticket_prob[2,1] * quad_help[1,0,1] ]> >= 12\n",
      "IC-3: <gurobi.QuadExpr: 2.0 ticket_price[0] + 5.0 ticket_prob[2,0] + 7.0\n"
     ]
    },
    {
     "name": "stdout",
     "output_type": "stream",
     "text": [
      "ticket_prob[2,1] + 5.0 quad_help[0,0,2] + 7.0 quad_help[1,0,2] + [ -5.0 ticket_prob[0,0]\n",
      " * quad_help[0,0,2] + -7.0 ticket_prob[0,1] * quad_help[1,0,2] ]> >= 12\n",
      "IC-3: <gurobi.QuadExpr: ticket_price[0] + ticket_price[1] + 5.0 ticket_prob[2,0] + 7.0\n",
      "ticket_prob[2,1] + 5.0 quad_help[0,0,2] + 7.0 quad_help[1,0,2] + [ -5.0 ticket_prob[1,0]\n",
      " * quad_help[0,0,2] + -7.0 ticket_prob[1,1] * quad_help[1,0,2] ]> >= 12\n",
      "IC-3: <gurobi.QuadExpr: ticket_price[0] + ticket_price[2] + 5.0 ticket_prob[2,0] + 7.0\n",
      "ticket_prob[2,1] + 5.0 quad_help[0,0,2] + 7.0 quad_help[1,0,2] + [ -5.0 ticket_prob[2,0]\n",
      " * quad_help[0,0,2] + -7.0 ticket_prob[2,1] * quad_help[1,0,2] ]> >= 12\n",
      "IC-3: <gurobi.QuadExpr: 2.0 ticket_price[0] + ticket_price[1] + -1.0 ticket_price[2] +\n",
      "5.0 ticket_prob[2,0] + 7.0 ticket_prob[2,1] + 5.0 quad_help[0,1,0] + 7.0\n",
      "quad_help[1,1,0] + [ -5.0 ticket_prob[0,0] * quad_help[0,1,0] + -7.0 ticket_prob[0,1] *\n",
      " quad_help[1,1,0] ]> >= 12\n",
      "IC-3: <gurobi.QuadExpr: ticket_price[0] + 2.0 ticket_price[1] + -1.0 ticket_price[2] +\n",
      "5.0 ticket_prob[2,0] + 7.0 ticket_prob[2,1] + 5.0 quad_help[0,1,0] + 7.0\n",
      "quad_help[1,1,0] + [ -5.0 ticket_prob[1,0] * quad_help[0,1,0] + -7.0 ticket_prob[1,1] *\n",
      " quad_help[1,1,0] ]> >= 12\n",
      "IC-3: <gurobi.QuadExpr: ticket_price[0] + ticket_price[1] + 5.0 ticket_prob[2,0] + 7.0\n",
      "ticket_prob[2,1] + 5.0 quad_help[0,1,0] + 7.0 quad_help[1,1,0] + [ -5.0 ticket_prob[2,0]\n",
      " * quad_help[0,1,0] + -7.0 ticket_prob[2,1] * quad_help[1,1,0] ]> >= 12\n",
      "IC-3: <gurobi.QuadExpr: ticket_price[0] + 2.0 ticket_price[1] + -1.0 ticket_price[2] +\n",
      "5.0 ticket_prob[2,0] + 7.0 ticket_prob[2,1] + 5.0 quad_help[0,1,1] + 7.0\n",
      "quad_help[1,1,1] + [ -5.0 ticket_prob[0,0] * quad_help[0,1,1] + -7.0 ticket_prob[0,1] *\n",
      " quad_help[1,1,1] ]> >= 12\n",
      "IC-3: <gurobi.QuadExpr: 3.0 ticket_price[1] + -1.0 ticket_price[2] + 5.0\n",
      "ticket_prob[2,0] + 7.0 ticket_prob[2,1] + 5.0 quad_help[0,1,1] + 7.0 quad_help[1,1,1] +\n",
      "[ -5.0 ticket_prob[1,0] * quad_help[0,1,1] + -7.0 ticket_prob[1,1] * quad_help[1,1,1] ]>\n",
      " >= 12\n",
      "IC-3: <gurobi.QuadExpr: 2.0 ticket_price[1] + 5.0 ticket_prob[2,0] + 7.0\n",
      "ticket_prob[2,1] + 5.0 quad_help[0,1,1] + 7.0 quad_help[1,1,1] + [ -5.0 ticket_prob[2,0]\n",
      " * quad_help[0,1,1] + -7.0 ticket_prob[2,1] * quad_help[1,1,1] ]> >= 12\n",
      "IC-3: <gurobi.QuadExpr: ticket_price[0] + ticket_price[1] + 5.0 ticket_prob[2,0] + 7.0\n",
      "ticket_prob[2,1] + 5.0 quad_help[0,1,2] + 7.0 quad_help[1,1,2] + [ -5.0 ticket_prob[0,0]\n",
      " * quad_help[0,1,2] + -7.0 ticket_prob[0,1] * quad_help[1,1,2] ]> >= 12\n",
      "IC-3: <gurobi.QuadExpr: 2.0 ticket_price[1] + 5.0 ticket_prob[2,0] + 7.0\n",
      "ticket_prob[2,1] + 5.0 quad_help[0,1,2] + 7.0 quad_help[1,1,2] + [ -5.0 ticket_prob[1,0]\n",
      " * quad_help[0,1,2] + -7.0 ticket_prob[1,1] * quad_help[1,1,2] ]> >= 12\n",
      "IC-3: <gurobi.QuadExpr: ticket_price[1] + ticket_price[2] + 5.0 ticket_prob[2,0] + 7.0\n",
      "ticket_prob[2,1] + 5.0 quad_help[0,1,2] + 7.0 quad_help[1,1,2] + [ -5.0 ticket_prob[2,0]\n",
      " * quad_help[0,1,2] + -7.0 ticket_prob[2,1] * quad_help[1,1,2] ]> >= 12\n",
      "IC-3: <gurobi.QuadExpr: 2.0 ticket_price[0] + 5.0 ticket_prob[2,0] + 7.0\n",
      "ticket_prob[2,1] + 5.0 quad_help[0,2,0] + 7.0 quad_help[1,2,0] + [ -5.0 ticket_prob[0,0]\n",
      " * quad_help[0,2,0] + -7.0 ticket_prob[0,1] * quad_help[1,2,0] ]> >= 12\n",
      "IC-3: <gurobi.QuadExpr: ticket_price[0] + ticket_price[1] + 5.0 ticket_prob[2,0] + 7.0\n",
      "ticket_prob[2,1] + 5.0 quad_help[0,2,0] + 7.0 quad_help[1,2,0] + [ -5.0 ticket_prob[1,0]\n",
      " * quad_help[0,2,0] + -7.0 ticket_prob[1,1] * quad_help[1,2,0] ]> >= 12\n",
      "IC-3: <gurobi.QuadExpr: ticket_price[0] + ticket_price[2] + 5.0 ticket_prob[2,0] + 7.0\n",
      "ticket_prob[2,1] + 5.0 quad_help[0,2,0] + 7.0 quad_help[1,2,0] + [ -5.0 ticket_prob[2,0]\n",
      " * quad_help[0,2,0] + -7.0 ticket_prob[2,1] * quad_help[1,2,0] ]> >= 12\n",
      "IC-3: <gurobi.QuadExpr: ticket_price[0] + ticket_price[1] + 5.0 ticket_prob[2,0] + 7.0\n",
      "ticket_prob[2,1] + 5.0 quad_help[0,2,1] + 7.0 quad_help[1,2,1] + [ -5.0 ticket_prob[0,0]\n",
      " * quad_help[0,2,1] + -7.0 ticket_prob[0,1] * quad_help[1,2,1] ]> >= 12\n",
      "IC-3: <gurobi.QuadExpr: 2.0 ticket_price[1] + 5.0 ticket_prob[2,0] + 7.0\n",
      "ticket_prob[2,1] + 5.0 quad_help[0,2,1] + 7.0 quad_help[1,2,1] + [ -5.0 ticket_prob[1,0]\n",
      " * quad_help[0,2,1] + -7.0 ticket_prob[1,1] * quad_help[1,2,1] ]> >= 12\n",
      "IC-3: <gurobi.QuadExpr: ticket_price[1] + ticket_price[2] + 5.0 ticket_prob[2,0] + 7.0\n",
      "ticket_prob[2,1] + 5.0 quad_help[0,2,1] + 7.0 quad_help[1,2,1] + [ -5.0 ticket_prob[2,0]\n",
      " * quad_help[0,2,1] + -7.0 ticket_prob[2,1] * quad_help[1,2,1] ]> >= 12\n",
      "IC-3: <gurobi.QuadExpr: ticket_price[0] + ticket_price[2] + 5.0 ticket_prob[2,0] + 7.0\n",
      "ticket_prob[2,1] + 5.0 quad_help[0,2,2] + 7.0 quad_help[1,2,2] + [ -5.0 ticket_prob[0,0]\n",
      " * quad_help[0,2,2] + -7.0 ticket_prob[0,1] * quad_help[1,2,2] ]> >= 12\n",
      "IC-3: <gurobi.QuadExpr: ticket_price[1] + ticket_price[2] + 5.0 ticket_prob[2,0] + 7.0\n",
      "ticket_prob[2,1] + 5.0 quad_help[0,2,2] + 7.0 quad_help[1,2,2] + [ -5.0 ticket_prob[1,0]\n",
      " * quad_help[0,2,2] + -7.0 ticket_prob[1,1] * quad_help[1,2,2] ]> >= 12\n",
      "IC-3: <gurobi.QuadExpr: 2.0 ticket_price[2] + 5.0 ticket_prob[2,0] + 7.0\n",
      "ticket_prob[2,1] + 5.0 quad_help[0,2,2] + 7.0 quad_help[1,2,2] + [ -5.0 ticket_prob[2,0]\n",
      " * quad_help[0,2,2] + -7.0 ticket_prob[2,1] * quad_help[1,2,2] ]> >= 12\n",
      "Bounds\n",
      "  0 <= ticket_prob[0,0] <= 1\n",
      "  0 <= ticket_prob[0,1] <= 1\n",
      "  0 <= ticket_prob[1,0] <= 1\n",
      "  0 <= ticket_prob[1,1] <= 1\n",
      "  0 <= ticket_prob[2,0] <= 1\n",
      "  0 <= ticket_prob[2,1] <= 1\n",
      "None\n"
     ]
    }
   ],
   "source": [
    "print(model.display())"
   ]
  },
  {
   "cell_type": "code",
   "execution_count": 19,
   "id": "b4d1c8af",
   "metadata": {},
   "outputs": [
    {
     "name": "stdout",
     "output_type": "stream",
     "text": [
      "\n",
      "Solution quality statistics for model Auction :\n",
      "  Maximum violation:\n",
      "    Bound       : 0.00000000e+00\n",
      "    Constraint  : 9.22157850e-10 (IC-3)\n",
      "    Integrality : 0.00000000e+00\n"
     ]
    }
   ],
   "source": [
    "model.printQuality()"
   ]
  }
 ],
 "metadata": {
  "kernelspec": {
   "display_name": "Python 3 (ipykernel)",
   "language": "python",
   "name": "python3"
  },
  "language_info": {
   "codemirror_mode": {
    "name": "ipython",
    "version": 3
   },
   "file_extension": ".py",
   "mimetype": "text/x-python",
   "name": "python",
   "nbconvert_exporter": "python",
   "pygments_lexer": "ipython3",
   "version": "3.9.12"
  }
 },
 "nbformat": 4,
 "nbformat_minor": 5
}
