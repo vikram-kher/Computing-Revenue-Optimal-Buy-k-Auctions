{
 "cells": [
  {
   "cell_type": "markdown",
   "id": "62c4c56d",
   "metadata": {},
   "source": [
    "## Computing the Optimal Buy-2 Incentive-Compatible Auction"
   ]
  },
  {
   "cell_type": "markdown",
   "id": "5bce8ef6",
   "metadata": {},
   "source": [
    "### Imports"
   ]
  },
  {
   "cell_type": "code",
   "execution_count": 1,
   "id": "6703bd6f",
   "metadata": {},
   "outputs": [],
   "source": [
    "import gurobipy as gp\n",
    "from gurobipy import GRB\n",
    "import itertools\n",
    "import numpy as np"
   ]
  },
  {
   "cell_type": "markdown",
   "id": "265678bf",
   "metadata": {},
   "source": [
    "### Set Up Parameters"
   ]
  },
  {
   "cell_type": "code",
   "execution_count": 2,
   "id": "c87c47df",
   "metadata": {},
   "outputs": [],
   "source": [
    "# Number of items\n",
    "n = 2\n",
    "\n",
    "# Distribution\n",
    "prob = [1/6, 1/6, 2/3]\n",
    "values = [[3, 4], [4, 3], [5, 7]]\n",
    "\n",
    "# Number of lottery tickets\n",
    "m = len(values)"
   ]
  },
  {
   "cell_type": "markdown",
   "id": "a512d178",
   "metadata": {},
   "source": [
    "### Initialize Model"
   ]
  },
  {
   "cell_type": "code",
   "execution_count": 3,
   "id": "f85299a5",
   "metadata": {},
   "outputs": [
    {
     "name": "stdout",
     "output_type": "stream",
     "text": [
      "Set parameter Username\n",
      "Academic license - for non-commercial use only - expires 2023-06-23\n",
      "Set parameter NonConvex to value 2\n"
     ]
    }
   ],
   "source": [
    "model = gp.Model('Auction')\n",
    "model.params.NonConvex = 2"
   ]
  },
  {
   "cell_type": "markdown",
   "id": "6c0f9c0d",
   "metadata": {},
   "source": [
    "### Add Variables"
   ]
  },
  {
   "cell_type": "code",
   "execution_count": 4,
   "id": "9bb99715",
   "metadata": {},
   "outputs": [
    {
     "data": {
      "text/plain": [
       "{0: <gurobi.Var ticket_price[0]>,\n",
       " 1: <gurobi.Var ticket_price[1]>,\n",
       " 2: <gurobi.Var ticket_price[2]>}"
      ]
     },
     "execution_count": 4,
     "metadata": {},
     "output_type": "execute_result"
    }
   ],
   "source": [
    "# Add ticket price variables\n",
    "ticket_price = model.addVars(m, name=\"ticket_price\", lb=0, vtype=GRB.CONTINUOUS)\n",
    "model.update()\n",
    "ticket_price"
   ]
  },
  {
   "cell_type": "code",
   "execution_count": 5,
   "id": "ee7bb91e",
   "metadata": {
    "scrolled": true
   },
   "outputs": [
    {
     "data": {
      "text/plain": [
       "{(0, 0): <gurobi.Var ticket_prob[0,0]>,\n",
       " (0, 1): <gurobi.Var ticket_prob[0,1]>,\n",
       " (1, 0): <gurobi.Var ticket_prob[1,0]>,\n",
       " (1, 1): <gurobi.Var ticket_prob[1,1]>,\n",
       " (2, 0): <gurobi.Var ticket_prob[2,0]>,\n",
       " (2, 1): <gurobi.Var ticket_prob[2,1]>}"
      ]
     },
     "execution_count": 5,
     "metadata": {},
     "output_type": "execute_result"
    }
   ],
   "source": [
    "# Add ticket probability variables\n",
    "ticket_prob = model.addVars(m,n, name=\"ticket_prob\", lb=0, ub=1, vtype=GRB.CONTINUOUS)\n",
    "model.update()\n",
    "ticket_prob"
   ]
  },
  {
   "cell_type": "markdown",
   "id": "712cc6ae",
   "metadata": {},
   "source": [
    "### Add Constraints"
   ]
  },
  {
   "cell_type": "code",
   "execution_count": 6,
   "id": "329de428",
   "metadata": {
    "scrolled": true
   },
   "outputs": [
    {
     "data": {
      "text/plain": [
       "{0: <gurobi.Constr *Awaiting Model Update*>,\n",
       " 1: <gurobi.Constr *Awaiting Model Update*>,\n",
       " 2: <gurobi.Constr *Awaiting Model Update*>}"
      ]
     },
     "execution_count": 6,
     "metadata": {},
     "output_type": "execute_result"
    }
   ],
   "source": [
    "# Non-negative utility\n",
    "model.addConstrs((gp.quicksum(ticket_prob[(i,j)]*values[i][j] for j in range(n)) - ticket_price[(i)] >= 0\n",
    "                  for i in range(m)), name='Non-Negative Utility')"
   ]
  },
  {
   "cell_type": "code",
   "execution_count": 7,
   "id": "7cd89527",
   "metadata": {},
   "outputs": [],
   "source": [
    "# Buy-1 Incentive Compatibility\n",
    "for i in range(m):\n",
    "    for t1 in range(m):\n",
    "        if(i != t1):\n",
    "            model.addConstr((gp.quicksum(ticket_prob[(i,j)]*values[i][j] for j in range(n)) - ticket_price[(i)]\n",
    "                                 >= gp.quicksum(ticket_prob[(t1,j)]*values[i][j] for j in range(n)) - ticket_price[(t1)]),name=f\"IC-1-{i}-{t1}\")"
   ]
  },
  {
   "cell_type": "code",
   "execution_count": 8,
   "id": "8617f3d9",
   "metadata": {},
   "outputs": [],
   "source": [
    "# Buy-2 Incentive Compatibility\n",
    "for i in range(m):\n",
    "    for t1 in range(m):\n",
    "        for t2 in range(t1,m):\n",
    "            model.addQConstr((gp.quicksum(ticket_prob[(i,j)]*values[i][j] for j in range(n)) - ticket_price[(i)]\n",
    "                                 >= gp.quicksum((1-((1-ticket_prob[(t2,j)])*(1-ticket_prob[(t1,j)])))*values[i][j] for j in range(n)) \n",
    "                              - ticket_price[(t1)] - ticket_price[(t2)]), name=f\"IC-2-{i}-{t1}-{t2}\")          "
   ]
  },
  {
   "cell_type": "markdown",
   "id": "86d17c70",
   "metadata": {},
   "source": [
    "### Set Objective"
   ]
  },
  {
   "cell_type": "code",
   "execution_count": 9,
   "id": "d2d7156a",
   "metadata": {},
   "outputs": [],
   "source": [
    "# Maximize expected revenue\n",
    "model.setObjective(gp.quicksum(ticket_price[(j)]*prob[j] for j in range(m)), GRB.MAXIMIZE)"
   ]
  },
  {
   "cell_type": "code",
   "execution_count": 10,
   "id": "670f2e4a",
   "metadata": {},
   "outputs": [
    {
     "name": "stdout",
     "output_type": "stream",
     "text": [
      "Set parameter MIPGap to value 0\n",
      "Set parameter FeasibilityTol to value 1e-09\n",
      "Set parameter PoolSearchMode to value 2\n"
     ]
    }
   ],
   "source": [
    "model.Params.MIPGap = 0\n",
    "model.Params.FeasibilityTol = 1e-09\n",
    "model.Params.PoolSearchMode=2"
   ]
  },
  {
   "cell_type": "code",
   "execution_count": 11,
   "id": "2effb644",
   "metadata": {
    "scrolled": false
   },
   "outputs": [
    {
     "name": "stdout",
     "output_type": "stream",
     "text": [
      "Gurobi Optimizer version 9.5.1 build v9.5.1rc2 (mac64[arm])\n",
      "Thread count: 10 physical cores, 10 logical processors, using up to 10 threads\n",
      "Optimize a model with 9 rows, 9 columns and 45 nonzeros\n",
      "Model fingerprint: 0x278a4ede\n",
      "Model has 18 quadratic constraints\n",
      "Coefficient statistics:\n",
      "  Matrix range     [1e+00, 7e+00]\n",
      "  QMatrix range    [3e+00, 7e+00]\n",
      "  QLMatrix range   [1e+00, 1e+01]\n",
      "  Objective range  [2e-01, 7e-01]\n",
      "  Bounds range     [1e+00, 1e+00]\n",
      "  RHS range        [0e+00, 0e+00]\n",
      "\n",
      "Continuous model is non-convex -- solving as a MIP\n",
      "\n",
      "Found heuristic solution: objective -0.0000000\n",
      "Presolve time: 0.00s\n",
      "Presolved: 45 rows, 21 columns, 207 nonzeros\n",
      "Presolved model has 12 bilinear constraint(s)\n",
      "Variable types: 21 continuous, 0 integer (0 binary)\n",
      "\n",
      "Root relaxation: objective 8.233333e+00, 19 iterations, 0.00 seconds (0.00 work units)\n",
      "\n",
      "    Nodes    |    Current Node    |     Objective Bounds      |     Work\n",
      " Expl Unexpl |  Obj  Depth IntInf | Incumbent    BestBd   Gap | It/Node Time\n",
      "\n",
      "     0     0    8.23333    0    1   -0.00000    8.23333      -     -    0s\n",
      "H    0     0                       8.0000000    8.23333  2.92%     -    0s\n",
      "     0     0    8.23333    0    1    8.00000    8.23333  2.92%     -    0s\n",
      "     0     0    8.23333    0    1    8.00000    8.23333  2.92%     -    0s\n",
      "     0     0    8.23333    0    1    8.00000    8.23333  2.92%     -    0s\n",
      "H    0     0                       8.1119792    8.23333  1.50%     -    0s\n",
      "     0     2    8.23333    0    1    8.11198    8.23333  1.50%     -    0s\n",
      "H    3     8                       8.1352232    8.23333  1.21%   1.0    0s\n",
      "H   35    46                       8.1354192    8.13852  0.04%   1.5    0s\n",
      "H   56    58                       8.1355644    8.13566  0.00%   1.4    0s\n",
      "*  170    91              13       8.1355672    8.13557  0.00%   0.8    0s\n",
      "*  171    91              13       8.1355698    8.13557  0.00%   0.8    0s\n",
      "*  226   230              14       8.1355714    8.13557  0.00%   0.7    0s\n",
      "\n",
      "Optimal solution found at node 415 - now completing solution pool...\n",
      "\n",
      "    Nodes    |    Current Node    |      Pool Obj. Bounds     |     Work\n",
      "             |                    |   Worst                   |\n",
      " Expl Unexpl |  Obj  Depth IntInf | Incumbent    BestBd   Gap | It/Node Time\n",
      "\n",
      "   415   480     cutoff   16               -    8.13557      -   0.7    0s\n",
      "\n",
      "Cutting planes:\n",
      "  RLT: 6\n",
      "\n",
      "Explored 2064 nodes (1268 simplex iterations) in 0.13 seconds (0.01 work units)\n",
      "Thread count was 10 (of 10 available processors)\n",
      "\n",
      "Solution count 10: 8.13557 8.13557 8.13556 ... 8.13555\n",
      "No other solutions better than 8.13555\n",
      "\n",
      "Optimal solution found (tolerance 0.00e+00)\n",
      "Best objective 8.135571403878e+00, best bound 8.135571403878e+00, gap 0.0000%\n"
     ]
    }
   ],
   "source": [
    "model.optimize()"
   ]
  },
  {
   "cell_type": "markdown",
   "id": "448f0c88",
   "metadata": {},
   "source": [
    "### Print Primal Variables"
   ]
  },
  {
   "cell_type": "code",
   "execution_count": 12,
   "id": "0f900406",
   "metadata": {
    "scrolled": true
   },
   "outputs": [
    {
     "name": "stdout",
     "output_type": "stream",
     "text": [
      "Objective Value:\n",
      "8.135571403877638\n",
      "Values and Prob:\n",
      "[0.16666666666666666, 0.16666666666666666, 0.6666666666666666]\n",
      "[[3, 4], [4, 3], [5, 7]]\n",
      "MENU:\n",
      "ticket_price[0] 0.8134284232658312\n",
      "ticket_price[1] 4.0\n",
      "ticket_price[2] 11.0\n",
      "ticket_prob[0,0] 0.11620406046654734\n",
      "ticket_prob[0,1] 0.1162040604665473\n",
      "ticket_prob[1,0] 1.0\n",
      "ticket_prob[1,1] 0.0\n",
      "ticket_prob[2,0] 1.0\n",
      "ticket_prob[2,1] 1.0\n",
      "\n",
      "Menu in Array Format:\n",
      "Price: [0.8134284232658312, 4.0, 11.0]\n",
      "Allocation: [[0.11620406046654734, 0.1162040604665473], [1.0, 0.0], [1.0, 1.0]]\n"
     ]
    }
   ],
   "source": [
    "menu_price = []\n",
    "menu_ticket = []\n",
    "obj = model.getObjective()\n",
    "print(\"Objective Value:\")\n",
    "print(obj.getValue())\n",
    "print(\"Values and Prob:\")\n",
    "print(prob)\n",
    "print(values)\n",
    "\n",
    "for i in range(m):\n",
    "    menu_ticket.append([])\n",
    "print(\"MENU:\")\n",
    "for v in model.getVars(): \n",
    "    print(v.varName, v.x)\n",
    "    if(v.varName[:12] == \"ticket_price\"):\n",
    "        menu_price.append(v.x)\n",
    "    elif(v.varName[:11] == \"ticket_prob\"):\n",
    "        menu_ticket[int(v.varName[12:13])].append(v.x)\n",
    "\n",
    "print(\"\\nMenu in Array Format:\")\n",
    "print(f\"Price: {menu_price}\")\n",
    "print(f\"Allocation: {menu_ticket}\")"
   ]
  },
  {
   "cell_type": "markdown",
   "id": "9e6b25ed",
   "metadata": {},
   "source": [
    "### Check if Menu is Buy-3 Incentive Compatible"
   ]
  },
  {
   "cell_type": "code",
   "execution_count": 13,
   "id": "6d37f515",
   "metadata": {},
   "outputs": [],
   "source": [
    "# Given a series of lottery tickets q and the number of items n\n",
    "# Compute the corresponding additive combined ticket\n",
    "def lottery(q,n):\n",
    "    lot = [1]*n\n",
    "    for i in range(n):\n",
    "        for j in range(len(q)):\n",
    "            lot[i] = lot[i] * (1- q[j][i]) \n",
    "        lot[i] = 1 - lot[i]\n",
    "    return lot"
   ]
  },
  {
   "cell_type": "code",
   "execution_count": 14,
   "id": "963f3ad9",
   "metadata": {
    "scrolled": true
   },
   "outputs": [
    {
     "name": "stdout",
     "output_type": "stream",
     "text": [
      "Buyer Preference: [5, 7]\n",
      "Alternative multi-set: [[0.11620406046654734, 0.1162040604665473], [0.11620406046654734, 0.1162040604665473], [0.11620406046654734, 0.1162040604665473]]\n",
      "Combined Lottery allocation of multi-set: [0.30967117840526825, 0.30967117840526825]\n",
      "Original Ticket Allocation: [1.0, 1.0]\n",
      "New Utility: 1.2757688710657256\n",
      "Old Utility: 1.0\n",
      "MENU IS NOT BUY-3 COMPATIBLE\n"
     ]
    }
   ],
   "source": [
    "# Iterate over tickets and for each ticket i look at every multi-set of k other tickets\n",
    "# and see if the buyer who likes i would rather purchase the alternative multiset\n",
    "# If so, print out information and warning message\n",
    "k = 3\n",
    "for i in range(m):\n",
    "    x = values[i]\n",
    "    combos = list(itertools.combinations_with_replacement(list(range(len(menu_ticket))), k))\n",
    "    for index in combos:\n",
    "        grouping = []\n",
    "        total_price = 0\n",
    "        for j in range(len(index)):\n",
    "            grouping.append(menu_ticket[index[j]])\n",
    "            total_price = total_price + menu_price[index[j]]\n",
    "        lotReturn = lottery(grouping,n)\n",
    "        newUtil = np.dot(lotReturn, x, out = None) - total_price \n",
    "        oldUtil = np.dot(menu_ticket[i], x, out = None) - menu_price[i]\n",
    "\n",
    "        if(newUtil > oldUtil):\n",
    "            print(f\"Buyer Preference: {x}\")\n",
    "            print(f\"Alternative multi-set: {grouping}\")\n",
    "            print(f\"Combined Lottery allocation of multi-set: {lotReturn}\")\n",
    "            print(f\"Original Ticket Allocation: {menu_ticket[i]}\")\n",
    "            print(f\"New Utility: {newUtil}\")\n",
    "            print(f\"Old Utility: {oldUtil}\")\n",
    "            print(f\"MENU IS NOT BUY-{k} COMPATIBLE\")"
   ]
  },
  {
   "cell_type": "markdown",
   "id": "f8fb2a38",
   "metadata": {},
   "source": [
    "### Print Out Model Details"
   ]
  },
  {
   "cell_type": "code",
   "execution_count": 15,
   "id": "e66b382b",
   "metadata": {
    "scrolled": false
   },
   "outputs": [
    {
     "name": "stdout",
     "output_type": "stream",
     "text": [
      "Maximize\n",
      "<gurobi.LinExpr: 0.16666666666666666 ticket_price[0]\n",
      "+ 0.16666666666666666 ticket_price[1] + 0.6666666666666666 ticket_price[2]>\n",
      "Subject To\n",
      "Non-Negative Utility[0]: <gurobi.LinExpr: -1.0 ticket_price[0] + 3.0 ticket_prob[0,0] +\n",
      " 4.0 ticket_prob[0,1]> >= 0\n",
      "Non-Negative Utility[1]: <gurobi.LinExpr: -1.0 ticket_price[1] + 4.0 ticket_prob[1,0] +\n",
      " 3.0 ticket_prob[1,1]> >= 0\n",
      "Non-Negative Utility[2]: <gurobi.LinExpr: -1.0 ticket_price[2] + 5.0 ticket_prob[2,0] +\n",
      " 7.0 ticket_prob[2,1]> >= 0\n",
      "IC-1-0-1: <gurobi.LinExpr: -1.0 ticket_price[0] + ticket_price[1] + 3.0\n",
      "ticket_prob[0,0] + 4.0 ticket_prob[0,1] + -3.0 ticket_prob[1,0] + -4.0 ticket_prob[1,1]>\n",
      " >= 0\n",
      "IC-1-0-2: <gurobi.LinExpr: -1.0 ticket_price[0] + ticket_price[2] + 3.0\n",
      "ticket_prob[0,0] + 4.0 ticket_prob[0,1] + -3.0 ticket_prob[2,0] + -4.0 ticket_prob[2,1]>\n",
      " >= 0\n",
      "IC-1-1-0: <gurobi.LinExpr: ticket_price[0] + -1.0 ticket_price[1] + -4.0\n",
      "ticket_prob[0,0] + -3.0 ticket_prob[0,1] + 4.0 ticket_prob[1,0] + 3.0 ticket_prob[1,1]>\n",
      " >= 0\n",
      "IC-1-1-2: <gurobi.LinExpr: -1.0 ticket_price[1] + ticket_price[2] + 4.0\n",
      "ticket_prob[1,0] + 3.0 ticket_prob[1,1] + -4.0 ticket_prob[2,0] + -3.0 ticket_prob[2,1]>\n",
      " >= 0\n",
      "IC-1-2-0: <gurobi.LinExpr: ticket_price[0] + -1.0 ticket_price[2] + -5.0\n",
      "ticket_prob[0,0] + -7.0 ticket_prob[0,1] + 5.0 ticket_prob[2,0] + 7.0 ticket_prob[2,1]>\n",
      " >= 0\n",
      "IC-1-2-1: <gurobi.LinExpr: ticket_price[1] + -1.0 ticket_price[2] + -5.0\n",
      "ticket_prob[1,0] + -7.0 ticket_prob[1,1] + 5.0 ticket_prob[2,0] + 7.0 ticket_prob[2,1]>\n",
      " >= 0\n",
      "IC-2-0-0-0: <gurobi.QuadExpr: ticket_price[0] + -3.0 ticket_prob[0,0] + -4.0\n",
      " ticket_prob[0,1] + [ 3.0 ticket_prob[0,0] ^ 2 + 4.0 ticket_prob[0,1] ^ 2 ]> >= 0\n",
      "IC-2-0-0-1: <gurobi.QuadExpr: ticket_price[1] + -3.0 ticket_prob[1,0] + -4.0\n",
      "ticket_prob[1,1] + [ 3.0 ticket_prob[0,0] * ticket_prob[1,0] + 4.0 ticket_prob[0,1] *\n",
      " ticket_prob[1,1] ]> >= 0\n",
      "IC-2-0-0-2: <gurobi.QuadExpr: ticket_price[2] + -3.0 ticket_prob[2,0] + -4.0\n",
      "ticket_prob[2,1] + [ 3.0 ticket_prob[0,0] * ticket_prob[2,0] + 4.0 ticket_prob[0,1] *\n",
      " ticket_prob[2,1] ]> >= 0\n",
      "IC-2-0-1-1: <gurobi.QuadExpr: -1.0 ticket_price[0] + 2.0 ticket_price[1] + 3.0\n",
      "ticket_prob[0,0] + 4.0 ticket_prob[0,1] + -6.0 ticket_prob[1,0] + -8.0 ticket_prob[1,1]\n",
      " + [ 3.0 ticket_prob[1,0] ^ 2 + 4.0 ticket_prob[1,1] ^ 2 ]> >= 0\n",
      "IC-2-0-1-2: <gurobi.QuadExpr: -1.0 ticket_price[0] + ticket_price[1] + ticket_price[2]\n",
      "+ 3.0 ticket_prob[0,0] + 4.0 ticket_prob[0,1] + -3.0 ticket_prob[1,0] + -4.0\n",
      "ticket_prob[1,1] + -3.0 ticket_prob[2,0] + -4.0 ticket_prob[2,1] + [ 3.0\n",
      " ticket_prob[1,0] * ticket_prob[2,0] + 4.0 ticket_prob[1,1] * ticket_prob[2,1] ]> >= 0\n",
      "IC-2-0-2-2: <gurobi.QuadExpr: -1.0 ticket_price[0] + 2.0 ticket_price[2] + 3.0\n",
      "ticket_prob[0,0] + 4.0 ticket_prob[0,1] + -6.0 ticket_prob[2,0] + -8.0 ticket_prob[2,1]\n",
      " + [ 3.0 ticket_prob[2,0] ^ 2 + 4.0 ticket_prob[2,1] ^ 2 ]> >= 0\n",
      "IC-2-1-0-0: <gurobi.QuadExpr: 2.0 ticket_price[0] + -1.0 ticket_price[1] + -8.0\n",
      "ticket_prob[0,0] + -6.0 ticket_prob[0,1] + 4.0 ticket_prob[1,0] + 3.0 ticket_prob[1,1] +\n",
      " [ 4.0 ticket_prob[0,0] ^ 2 + 3.0 ticket_prob[0,1] ^ 2 ]> >= 0\n",
      "IC-2-1-0-1: <gurobi.QuadExpr: ticket_price[0] + -4.0 ticket_prob[0,0] + -3.0\n",
      "ticket_prob[0,1] + [ 4.0 ticket_prob[0,0] * ticket_prob[1,0] + 3.0 ticket_prob[0,1] *\n",
      " ticket_prob[1,1] ]> >= 0\n",
      "IC-2-1-0-2: <gurobi.QuadExpr: ticket_price[0] + -1.0 ticket_price[1] + ticket_price[2]\n",
      "+ -4.0 ticket_prob[0,0] + -3.0 ticket_prob[0,1] + 4.0 ticket_prob[1,0] + 3.0\n",
      "ticket_prob[1,1] + -4.0 ticket_prob[2,0] + -3.0 ticket_prob[2,1] + [ 4.0\n",
      " ticket_prob[0,0] * ticket_prob[2,0] + 3.0 ticket_prob[0,1] * ticket_prob[2,1] ]> >= 0\n",
      "IC-2-1-1-1: <gurobi.QuadExpr: ticket_price[1] + -4.0 ticket_prob[1,0] + -3.0\n",
      " ticket_prob[1,1] + [ 4.0 ticket_prob[1,0] ^ 2 + 3.0 ticket_prob[1,1] ^ 2 ]> >= 0\n",
      "IC-2-1-1-2: <gurobi.QuadExpr: ticket_price[2] + -4.0 ticket_prob[2,0] + -3.0\n",
      "ticket_prob[2,1] + [ 4.0 ticket_prob[1,0] * ticket_prob[2,0] + 3.0 ticket_prob[1,1] *\n",
      " ticket_prob[2,1] ]> >= 0\n",
      "IC-2-1-2-2: <gurobi.QuadExpr: -1.0 ticket_price[1] + 2.0 ticket_price[2] + 4.0\n",
      "ticket_prob[1,0] + 3.0 ticket_prob[1,1] + -8.0 ticket_prob[2,0] + -6.0 ticket_prob[2,1]\n",
      " + [ 4.0 ticket_prob[2,0] ^ 2 + 3.0 ticket_prob[2,1] ^ 2 ]> >= 0\n",
      "IC-2-2-0-0: <gurobi.QuadExpr: 2.0 ticket_price[0] + -1.0 ticket_price[2] + -10.0\n",
      "ticket_prob[0,0] + -14.0 ticket_prob[0,1] + 5.0 ticket_prob[2,0] + 7.0 ticket_prob[2,1]\n",
      " + [ 5.0 ticket_prob[0,0] ^ 2 + 7.0 ticket_prob[0,1] ^ 2 ]> >= 0\n",
      "IC-2-2-0-1: <gurobi.QuadExpr: ticket_price[0] + ticket_price[1] + -1.0 ticket_price[2]\n",
      "+ -5.0 ticket_prob[0,0] + -7.0 ticket_prob[0,1] + -5.0 ticket_prob[1,0] + -7.0\n",
      "ticket_prob[1,1] + 5.0 ticket_prob[2,0] + 7.0 ticket_prob[2,1] + [ 5.0 ticket_prob[0,0]\n",
      " * ticket_prob[1,0] + 7.0 ticket_prob[0,1] * ticket_prob[1,1] ]> >= 0\n",
      "IC-2-2-0-2: <gurobi.QuadExpr: ticket_price[0] + -5.0 ticket_prob[0,0] + -7.0\n",
      "ticket_prob[0,1] + [ 5.0 ticket_prob[0,0] * ticket_prob[2,0] + 7.0 ticket_prob[0,1] *\n",
      " ticket_prob[2,1] ]> >= 0\n",
      "IC-2-2-1-1: <gurobi.QuadExpr: 2.0 ticket_price[1] + -1.0 ticket_price[2] + -10.0\n",
      "ticket_prob[1,0] + -14.0 ticket_prob[1,1] + 5.0 ticket_prob[2,0] + 7.0 ticket_prob[2,1]\n",
      " + [ 5.0 ticket_prob[1,0] ^ 2 + 7.0 ticket_prob[1,1] ^ 2 ]> >= 0\n",
      "IC-2-2-1-2: <gurobi.QuadExpr: ticket_price[1] + -5.0 ticket_prob[1,0] + -7.0\n",
      "ticket_prob[1,1] + [ 5.0 ticket_prob[1,0] * ticket_prob[2,0] + 7.0 ticket_prob[1,1] *\n",
      " ticket_prob[2,1] ]> >= 0\n",
      "IC-2-2-2-2: <gurobi.QuadExpr: ticket_price[2] + -5.0 ticket_prob[2,0] + -7.0\n",
      " ticket_prob[2,1] + [ 5.0 ticket_prob[2,0] ^ 2 + 7.0 ticket_prob[2,1] ^ 2 ]> >= 0\n",
      "Bounds\n",
      "  0 <= ticket_prob[0,0] <= 1\n",
      "  0 <= ticket_prob[0,1] <= 1\n",
      "  0 <= ticket_prob[1,0] <= 1\n",
      "  0 <= ticket_prob[1,1] <= 1\n",
      "  0 <= ticket_prob[2,0] <= 1\n",
      "  0 <= ticket_prob[2,1] <= 1\n",
      "None\n"
     ]
    }
   ],
   "source": [
    "print(model.display())"
   ]
  },
  {
   "cell_type": "code",
   "execution_count": 16,
   "id": "cf1d3864",
   "metadata": {
    "scrolled": false
   },
   "outputs": [
    {
     "name": "stdout",
     "output_type": "stream",
     "text": [
      "\n",
      "Solution quality statistics for model Auction :\n",
      "  Maximum violation:\n",
      "    Bound       : 0.00000000e+00\n",
      "    Constraint  : 6.38518502e-10 (IC-2-2-0-0)\n",
      "    Integrality : 0.00000000e+00\n"
     ]
    }
   ],
   "source": [
    "model.printQuality()"
   ]
  }
 ],
 "metadata": {
  "kernelspec": {
   "display_name": "Python 3 (ipykernel)",
   "language": "python",
   "name": "python3"
  },
  "language_info": {
   "codemirror_mode": {
    "name": "ipython",
    "version": 3
   },
   "file_extension": ".py",
   "mimetype": "text/x-python",
   "name": "python",
   "nbconvert_exporter": "python",
   "pygments_lexer": "ipython3",
   "version": "3.9.12"
  }
 },
 "nbformat": 4,
 "nbformat_minor": 5
}
